{
  "nbformat": 4,
  "nbformat_minor": 0,
  "metadata": {
    "colab": {
      "provenance": []
    },
    "kernelspec": {
      "name": "python3",
      "display_name": "Python 3"
    },
    "language_info": {
      "name": "python"
    }
  },
  "cells": [
    {
      "cell_type": "code",
      "execution_count": 1,
      "metadata": {
        "id": "T4Axl5q61RdO"
      },
      "outputs": [],
      "source": [
        "import numpy as np\n",
        "import pandas as pd\n",
        "import os\n",
        "import tensorflow as tf\n",
        "from tensorflow.keras.models import Sequential\n",
        "from tensorflow.keras.layers import Dense, SimpleRNN\n",
        "from tensorflow.keras.callbacks import ModelCheckpoint"
      ]
    },
    {
      "cell_type": "code",
      "source": [
        "t = np.arange(0, 2500)\n",
        "x = np.sin(0.02 * t) + np.random.rand(2500) * 2"
      ],
      "metadata": {
        "id": "TqxvKuGQ2Kw6"
      },
      "execution_count": 2,
      "outputs": []
    },
    {
      "cell_type": "code",
      "source": [
        "train, test = x[0:2000], x[:2000]"
      ],
      "metadata": {
        "id": "26IGCq7D2lov"
      },
      "execution_count": 3,
      "outputs": []
    },
    {
      "cell_type": "code",
      "source": [
        "def convertToDataset(data, step):\n",
        "    X, Y =[], []\n",
        "    for i in range(len(data)-step):\n",
        "        d=i+step\n",
        "        X.append(data[i:d,])\n",
        "        Y.append(data[d,])\n",
        "    return np.array(X), np.array(Y)"
      ],
      "metadata": {
        "id": "SZptzp3G2rsr"
      },
      "execution_count": 4,
      "outputs": []
    },
    {
      "cell_type": "code",
      "source": [
        "train_step = 10\n",
        "test_step = 20\n",
        "\n",
        "x_train, y_train = convertToDataset(train, train_step)\n",
        "x_test, y_test = convertToDataset(test, test_step)"
      ],
      "metadata": {
        "id": "4W3PqOjm2v3F"
      },
      "execution_count": 5,
      "outputs": []
    },
    {
      "cell_type": "code",
      "source": [
        "x_train = np.reshape(x_train, (x_train.shape[0], x_train.shape[1], 1))\n",
        "x_test = np.reshape(x_test, (x_test.shape[0], x_test.shape[1], 1))"
      ],
      "metadata": {
        "id": "w2p9mxD63JgQ"
      },
      "execution_count": 6,
      "outputs": []
    },
    {
      "cell_type": "code",
      "source": [
        "x_train.shape"
      ],
      "metadata": {
        "colab": {
          "base_uri": "https://localhost:8080/"
        },
        "id": "jH_YUpKp3fi_",
        "outputId": "e2bcca82-6ab3-441a-a4aa-e3fded199d30"
      },
      "execution_count": 7,
      "outputs": [
        {
          "output_type": "execute_result",
          "data": {
            "text/plain": [
              "(1990, 10, 1)"
            ]
          },
          "metadata": {},
          "execution_count": 7
        }
      ]
    },
    {
      "cell_type": "code",
      "source": [
        "x_test.shape"
      ],
      "metadata": {
        "colab": {
          "base_uri": "https://localhost:8080/"
        },
        "id": "-4LFXt_t3rdX",
        "outputId": "10494a95-fbe5-4fa0-a2a8-da4c17e39fff"
      },
      "execution_count": 8,
      "outputs": [
        {
          "output_type": "execute_result",
          "data": {
            "text/plain": [
              "(1980, 20, 1)"
            ]
          },
          "metadata": {},
          "execution_count": 8
        }
      ]
    },
    {
      "cell_type": "code",
      "source": [
        "def Build_Model(sequence_length):\n",
        "  model = Sequential()\n",
        "  model.add(SimpleRNN(units=64, input_shape=(sequence_length, 1), activation = \"tanh\"))\n",
        "  model.add(Dense(1))\n",
        "  return model"
      ],
      "metadata": {
        "id": "5PDYHZkX3tfA"
      },
      "execution_count": 9,
      "outputs": []
    },
    {
      "cell_type": "code",
      "source": [
        "model = Build_Model(10)\n",
        "model.summary()"
      ],
      "metadata": {
        "colab": {
          "base_uri": "https://localhost:8080/"
        },
        "id": "5OCUcN5z4W_G",
        "outputId": "4c56148d-1fb3-4302-d2f0-b3f7edcaff21"
      },
      "execution_count": 10,
      "outputs": [
        {
          "output_type": "stream",
          "name": "stdout",
          "text": [
            "Model: \"sequential\"\n",
            "_________________________________________________________________\n",
            " Layer (type)                Output Shape              Param #   \n",
            "=================================================================\n",
            " simple_rnn (SimpleRNN)      (None, 64)                4224      \n",
            "                                                                 \n",
            " dense (Dense)               (None, 1)                 65        \n",
            "                                                                 \n",
            "=================================================================\n",
            "Total params: 4289 (16.75 KB)\n",
            "Trainable params: 4289 (16.75 KB)\n",
            "Non-trainable params: 0 (0.00 Byte)\n",
            "_________________________________________________________________\n"
          ]
        }
      ]
    },
    {
      "cell_type": "code",
      "source": [
        "model.input"
      ],
      "metadata": {
        "colab": {
          "base_uri": "https://localhost:8080/"
        },
        "id": "2zoH9jjm4jB0",
        "outputId": "108a80cc-c87a-45cb-8bd4-d0184f49c817"
      },
      "execution_count": 11,
      "outputs": [
        {
          "output_type": "execute_result",
          "data": {
            "text/plain": [
              "<KerasTensor: shape=(None, 10, 1) dtype=float32 (created by layer 'simple_rnn_input')>"
            ]
          },
          "metadata": {},
          "execution_count": 11
        }
      ]
    },
    {
      "cell_type": "code",
      "source": [
        "model.compile(loss='mean_squared_error', optimizer='adam')"
      ],
      "metadata": {
        "id": "D5WP8G1w4l3i"
      },
      "execution_count": 12,
      "outputs": []
    },
    {
      "cell_type": "code",
      "source": [
        "checkpoint_dir = './notebook02_training_checkpoints'\n",
        "checkpoint_prefix = os.path.join(checkpoint_dir, \"ckpt_{epoch}\")\n",
        "\n",
        "checkpoint_callback = ModelCheckpoint(filepath = checkpoint_prefix, save_weights_only=True)"
      ],
      "metadata": {
        "id": "F6uqWssx4uRY"
      },
      "execution_count": 13,
      "outputs": []
    },
    {
      "cell_type": "code",
      "source": [
        "history = model.fit(x_train, y_train, epochs=100, batch_size=16, verbose=2, callbacks=[checkpoint_callback])"
      ],
      "metadata": {
        "colab": {
          "base_uri": "https://localhost:8080/"
        },
        "id": "4XKnJMNj474T",
        "outputId": "0abf07ab-d632-4316-d7cc-707b4ffb373c"
      },
      "execution_count": 14,
      "outputs": [
        {
          "output_type": "stream",
          "name": "stdout",
          "text": [
            "Epoch 1/100\n",
            "125/125 - 1s - loss: 0.4729 - 1s/epoch - 8ms/step\n",
            "Epoch 2/100\n",
            "125/125 - 0s - loss: 0.4056 - 229ms/epoch - 2ms/step\n",
            "Epoch 3/100\n",
            "125/125 - 0s - loss: 0.3966 - 232ms/epoch - 2ms/step\n",
            "Epoch 4/100\n",
            "125/125 - 0s - loss: 0.3956 - 241ms/epoch - 2ms/step\n",
            "Epoch 5/100\n",
            "125/125 - 0s - loss: 0.3888 - 227ms/epoch - 2ms/step\n",
            "Epoch 6/100\n",
            "125/125 - 0s - loss: 0.3859 - 220ms/epoch - 2ms/step\n",
            "Epoch 7/100\n",
            "125/125 - 0s - loss: 0.3898 - 233ms/epoch - 2ms/step\n",
            "Epoch 8/100\n",
            "125/125 - 0s - loss: 0.3833 - 221ms/epoch - 2ms/step\n",
            "Epoch 9/100\n",
            "125/125 - 0s - loss: 0.3845 - 222ms/epoch - 2ms/step\n",
            "Epoch 10/100\n",
            "125/125 - 0s - loss: 0.3785 - 230ms/epoch - 2ms/step\n",
            "Epoch 11/100\n",
            "125/125 - 0s - loss: 0.3799 - 317ms/epoch - 3ms/step\n",
            "Epoch 12/100\n",
            "125/125 - 0s - loss: 0.3825 - 334ms/epoch - 3ms/step\n",
            "Epoch 13/100\n",
            "125/125 - 0s - loss: 0.3781 - 386ms/epoch - 3ms/step\n",
            "Epoch 14/100\n",
            "125/125 - 0s - loss: 0.3853 - 324ms/epoch - 3ms/step\n",
            "Epoch 15/100\n",
            "125/125 - 0s - loss: 0.3749 - 369ms/epoch - 3ms/step\n",
            "Epoch 16/100\n",
            "125/125 - 0s - loss: 0.3710 - 479ms/epoch - 4ms/step\n",
            "Epoch 17/100\n",
            "125/125 - 1s - loss: 0.3741 - 515ms/epoch - 4ms/step\n",
            "Epoch 18/100\n",
            "125/125 - 0s - loss: 0.3779 - 423ms/epoch - 3ms/step\n",
            "Epoch 19/100\n",
            "125/125 - 1s - loss: 0.3747 - 562ms/epoch - 4ms/step\n",
            "Epoch 20/100\n",
            "125/125 - 0s - loss: 0.3720 - 367ms/epoch - 3ms/step\n",
            "Epoch 21/100\n",
            "125/125 - 0s - loss: 0.3743 - 379ms/epoch - 3ms/step\n",
            "Epoch 22/100\n",
            "125/125 - 0s - loss: 0.3722 - 355ms/epoch - 3ms/step\n",
            "Epoch 23/100\n",
            "125/125 - 0s - loss: 0.3704 - 479ms/epoch - 4ms/step\n",
            "Epoch 24/100\n",
            "125/125 - 0s - loss: 0.3756 - 365ms/epoch - 3ms/step\n",
            "Epoch 25/100\n",
            "125/125 - 0s - loss: 0.3695 - 363ms/epoch - 3ms/step\n",
            "Epoch 26/100\n",
            "125/125 - 0s - loss: 0.3720 - 299ms/epoch - 2ms/step\n",
            "Epoch 27/100\n",
            "125/125 - 0s - loss: 0.3686 - 307ms/epoch - 2ms/step\n",
            "Epoch 28/100\n",
            "125/125 - 0s - loss: 0.3735 - 217ms/epoch - 2ms/step\n",
            "Epoch 29/100\n",
            "125/125 - 0s - loss: 0.3700 - 233ms/epoch - 2ms/step\n",
            "Epoch 30/100\n",
            "125/125 - 0s - loss: 0.3689 - 218ms/epoch - 2ms/step\n",
            "Epoch 31/100\n",
            "125/125 - 0s - loss: 0.3654 - 209ms/epoch - 2ms/step\n",
            "Epoch 32/100\n",
            "125/125 - 0s - loss: 0.3674 - 230ms/epoch - 2ms/step\n",
            "Epoch 33/100\n",
            "125/125 - 0s - loss: 0.3619 - 218ms/epoch - 2ms/step\n",
            "Epoch 34/100\n",
            "125/125 - 0s - loss: 0.3625 - 238ms/epoch - 2ms/step\n",
            "Epoch 35/100\n",
            "125/125 - 0s - loss: 0.3625 - 213ms/epoch - 2ms/step\n",
            "Epoch 36/100\n",
            "125/125 - 0s - loss: 0.3624 - 219ms/epoch - 2ms/step\n",
            "Epoch 37/100\n",
            "125/125 - 0s - loss: 0.3568 - 223ms/epoch - 2ms/step\n",
            "Epoch 38/100\n",
            "125/125 - 0s - loss: 0.3560 - 219ms/epoch - 2ms/step\n",
            "Epoch 39/100\n",
            "125/125 - 0s - loss: 0.3578 - 217ms/epoch - 2ms/step\n",
            "Epoch 40/100\n",
            "125/125 - 0s - loss: 0.3559 - 226ms/epoch - 2ms/step\n",
            "Epoch 41/100\n",
            "125/125 - 0s - loss: 0.3519 - 208ms/epoch - 2ms/step\n",
            "Epoch 42/100\n",
            "125/125 - 0s - loss: 0.3509 - 218ms/epoch - 2ms/step\n",
            "Epoch 43/100\n",
            "125/125 - 0s - loss: 0.3491 - 217ms/epoch - 2ms/step\n",
            "Epoch 44/100\n",
            "125/125 - 0s - loss: 0.3537 - 225ms/epoch - 2ms/step\n",
            "Epoch 45/100\n",
            "125/125 - 0s - loss: 0.3509 - 214ms/epoch - 2ms/step\n",
            "Epoch 46/100\n",
            "125/125 - 0s - loss: 0.3492 - 217ms/epoch - 2ms/step\n",
            "Epoch 47/100\n",
            "125/125 - 0s - loss: 0.3442 - 208ms/epoch - 2ms/step\n",
            "Epoch 48/100\n",
            "125/125 - 0s - loss: 0.3423 - 225ms/epoch - 2ms/step\n",
            "Epoch 49/100\n",
            "125/125 - 0s - loss: 0.3429 - 213ms/epoch - 2ms/step\n",
            "Epoch 50/100\n",
            "125/125 - 0s - loss: 0.3419 - 213ms/epoch - 2ms/step\n",
            "Epoch 51/100\n",
            "125/125 - 0s - loss: 0.3457 - 219ms/epoch - 2ms/step\n",
            "Epoch 52/100\n",
            "125/125 - 0s - loss: 0.3378 - 229ms/epoch - 2ms/step\n",
            "Epoch 53/100\n",
            "125/125 - 0s - loss: 0.3397 - 225ms/epoch - 2ms/step\n",
            "Epoch 54/100\n",
            "125/125 - 0s - loss: 0.3373 - 223ms/epoch - 2ms/step\n",
            "Epoch 55/100\n",
            "125/125 - 0s - loss: 0.3288 - 210ms/epoch - 2ms/step\n",
            "Epoch 56/100\n",
            "125/125 - 0s - loss: 0.3286 - 213ms/epoch - 2ms/step\n",
            "Epoch 57/100\n",
            "125/125 - 0s - loss: 0.3194 - 232ms/epoch - 2ms/step\n",
            "Epoch 58/100\n",
            "125/125 - 0s - loss: 0.3240 - 220ms/epoch - 2ms/step\n",
            "Epoch 59/100\n",
            "125/125 - 0s - loss: 0.3160 - 214ms/epoch - 2ms/step\n",
            "Epoch 60/100\n",
            "125/125 - 0s - loss: 0.3159 - 282ms/epoch - 2ms/step\n",
            "Epoch 61/100\n",
            "125/125 - 0s - loss: 0.3134 - 282ms/epoch - 2ms/step\n",
            "Epoch 62/100\n",
            "125/125 - 0s - loss: 0.3085 - 274ms/epoch - 2ms/step\n",
            "Epoch 63/100\n",
            "125/125 - 0s - loss: 0.3050 - 289ms/epoch - 2ms/step\n",
            "Epoch 64/100\n",
            "125/125 - 0s - loss: 0.3037 - 289ms/epoch - 2ms/step\n",
            "Epoch 65/100\n",
            "125/125 - 0s - loss: 0.3057 - 286ms/epoch - 2ms/step\n",
            "Epoch 66/100\n",
            "125/125 - 0s - loss: 0.2971 - 238ms/epoch - 2ms/step\n",
            "Epoch 67/100\n",
            "125/125 - 0s - loss: 0.2952 - 219ms/epoch - 2ms/step\n",
            "Epoch 68/100\n",
            "125/125 - 0s - loss: 0.2899 - 217ms/epoch - 2ms/step\n",
            "Epoch 69/100\n",
            "125/125 - 0s - loss: 0.2885 - 230ms/epoch - 2ms/step\n",
            "Epoch 70/100\n",
            "125/125 - 0s - loss: 0.2863 - 229ms/epoch - 2ms/step\n",
            "Epoch 71/100\n",
            "125/125 - 0s - loss: 0.2791 - 213ms/epoch - 2ms/step\n",
            "Epoch 72/100\n",
            "125/125 - 0s - loss: 0.2785 - 220ms/epoch - 2ms/step\n",
            "Epoch 73/100\n",
            "125/125 - 0s - loss: 0.2729 - 230ms/epoch - 2ms/step\n",
            "Epoch 74/100\n",
            "125/125 - 0s - loss: 0.2699 - 233ms/epoch - 2ms/step\n",
            "Epoch 75/100\n",
            "125/125 - 0s - loss: 0.2661 - 226ms/epoch - 2ms/step\n",
            "Epoch 76/100\n",
            "125/125 - 0s - loss: 0.2616 - 223ms/epoch - 2ms/step\n",
            "Epoch 77/100\n",
            "125/125 - 0s - loss: 0.2574 - 217ms/epoch - 2ms/step\n",
            "Epoch 78/100\n",
            "125/125 - 0s - loss: 0.2546 - 233ms/epoch - 2ms/step\n",
            "Epoch 79/100\n",
            "125/125 - 0s - loss: 0.2462 - 219ms/epoch - 2ms/step\n",
            "Epoch 80/100\n",
            "125/125 - 0s - loss: 0.2421 - 218ms/epoch - 2ms/step\n",
            "Epoch 81/100\n",
            "125/125 - 0s - loss: 0.2374 - 208ms/epoch - 2ms/step\n",
            "Epoch 82/100\n",
            "125/125 - 0s - loss: 0.2358 - 225ms/epoch - 2ms/step\n",
            "Epoch 83/100\n",
            "125/125 - 0s - loss: 0.2317 - 230ms/epoch - 2ms/step\n",
            "Epoch 84/100\n",
            "125/125 - 0s - loss: 0.2280 - 219ms/epoch - 2ms/step\n",
            "Epoch 85/100\n",
            "125/125 - 0s - loss: 0.2255 - 216ms/epoch - 2ms/step\n",
            "Epoch 86/100\n",
            "125/125 - 0s - loss: 0.2217 - 223ms/epoch - 2ms/step\n",
            "Epoch 87/100\n",
            "125/125 - 0s - loss: 0.2139 - 218ms/epoch - 2ms/step\n",
            "Epoch 88/100\n",
            "125/125 - 0s - loss: 0.2177 - 225ms/epoch - 2ms/step\n",
            "Epoch 89/100\n",
            "125/125 - 0s - loss: 0.2109 - 213ms/epoch - 2ms/step\n",
            "Epoch 90/100\n",
            "125/125 - 0s - loss: 0.2103 - 213ms/epoch - 2ms/step\n",
            "Epoch 91/100\n",
            "125/125 - 0s - loss: 0.2077 - 223ms/epoch - 2ms/step\n",
            "Epoch 92/100\n",
            "125/125 - 0s - loss: 0.2009 - 210ms/epoch - 2ms/step\n",
            "Epoch 93/100\n",
            "125/125 - 0s - loss: 0.1932 - 223ms/epoch - 2ms/step\n",
            "Epoch 94/100\n",
            "125/125 - 0s - loss: 0.1953 - 211ms/epoch - 2ms/step\n",
            "Epoch 95/100\n",
            "125/125 - 0s - loss: 0.1880 - 222ms/epoch - 2ms/step\n",
            "Epoch 96/100\n",
            "125/125 - 0s - loss: 0.1861 - 233ms/epoch - 2ms/step\n",
            "Epoch 97/100\n",
            "125/125 - 0s - loss: 0.1823 - 224ms/epoch - 2ms/step\n",
            "Epoch 98/100\n",
            "125/125 - 0s - loss: 0.1868 - 214ms/epoch - 2ms/step\n",
            "Epoch 99/100\n",
            "125/125 - 0s - loss: 0.1740 - 223ms/epoch - 2ms/step\n",
            "Epoch 100/100\n",
            "125/125 - 0s - loss: 0.1710 - 228ms/epoch - 2ms/step\n"
          ]
        }
      ]
    },
    {
      "cell_type": "code",
      "source": [
        "tf.train.latest_checkpoint(checkpoint_dir)"
      ],
      "metadata": {
        "colab": {
          "base_uri": "https://localhost:8080/",
          "height": 35
        },
        "id": "K-lEvrqc5p-b",
        "outputId": "2ed06018-0370-4ba3-9ed4-f604aef95517"
      },
      "execution_count": 15,
      "outputs": [
        {
          "output_type": "execute_result",
          "data": {
            "text/plain": [
              "'./notebook02_training_checkpoints/ckpt_100'"
            ],
            "application/vnd.google.colaboratory.intrinsic+json": {
              "type": "string"
            }
          },
          "metadata": {},
          "execution_count": 15
        }
      ]
    },
    {
      "cell_type": "code",
      "source": [
        "model = Build_Model(20)\n",
        "model.load_weights(tf.train.latest_checkpoint(checkpoint_dir))\n",
        "model.compile(loss='mean_squared_error', optimizer='adam')"
      ],
      "metadata": {
        "id": "RIxK92SP50A1"
      },
      "execution_count": 16,
      "outputs": []
    },
    {
      "cell_type": "code",
      "source": [
        "train_score = model.evaluate(x_test, y_test, verbose=0)\n",
        "print(train_score)"
      ],
      "metadata": {
        "colab": {
          "base_uri": "https://localhost:8080/"
        },
        "id": "WbH88jnA6h41",
        "outputId": "5eb18fcc-0420-4938-ca58-43128d13d730"
      },
      "execution_count": 17,
      "outputs": [
        {
          "output_type": "stream",
          "name": "stdout",
          "text": [
            "0.532565712928772\n"
          ]
        }
      ]
    }
  ]
}