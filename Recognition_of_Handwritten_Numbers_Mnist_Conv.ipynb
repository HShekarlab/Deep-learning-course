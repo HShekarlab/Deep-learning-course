{
  "nbformat": 4,
  "nbformat_minor": 0,
  "metadata": {
    "colab": {
      "provenance": []
    },
    "kernelspec": {
      "name": "python3",
      "display_name": "Python 3"
    },
    "language_info": {
      "name": "python"
    }
  },
  "cells": [
    {
      "cell_type": "code",
      "execution_count": null,
      "metadata": {
        "id": "eCe5XfNC6WXt"
      },
      "outputs": [],
      "source": [
        "import numpy as np\n",
        "import matplotlib.pyplot as plt\n",
        "import keras\n",
        "from keras.datasets import mnist\n",
        "from keras.utils import np_utils\n",
        "from keras.models import Model\n",
        "from keras import layers"
      ]
    },
    {
      "cell_type": "code",
      "source": [
        "(train_images, train_labels), (test_images, test_labels) = mnist.load_data()"
      ],
      "metadata": {
        "colab": {
          "base_uri": "https://localhost:8080/"
        },
        "id": "nMrKq0Lo6byF",
        "outputId": "5cf7a5c5-6a49-4bd8-a115-202502c4b6f9"
      },
      "execution_count": null,
      "outputs": [
        {
          "output_type": "stream",
          "name": "stdout",
          "text": [
            "Downloading data from https://storage.googleapis.com/tensorflow/tf-keras-datasets/mnist.npz\n",
            "11490434/11490434 [==============================] - 0s 0us/step\n"
          ]
        }
      ]
    },
    {
      "cell_type": "code",
      "source": [
        "X_train = train_images.reshape(60000, 28, 28, 1)\n",
        "X_test = test_images.reshape(10000, 28, 28, 1)"
      ],
      "metadata": {
        "id": "Clpj4BJ36eDV"
      },
      "execution_count": null,
      "outputs": []
    },
    {
      "cell_type": "code",
      "source": [
        "X_train = X_train.astype(\"float32\")\n",
        "X_test = X_test.astype(\"float32\")"
      ],
      "metadata": {
        "id": "uZhY1aSW6hmc"
      },
      "execution_count": null,
      "outputs": []
    },
    {
      "cell_type": "markdown",
      "source": [
        "**Data Normalization**"
      ],
      "metadata": {
        "id": "B5qTIwfS6k3n"
      }
    },
    {
      "cell_type": "code",
      "source": [
        "X_train /= 255\n",
        "X_test /= 255"
      ],
      "metadata": {
        "id": "Gq_oOGR06oQu"
      },
      "execution_count": null,
      "outputs": []
    },
    {
      "cell_type": "code",
      "source": [
        "Y_train = np_utils.to_categorical(train_labels)\n",
        "Y_test = np_utils.to_categorical(test_labels)"
      ],
      "metadata": {
        "id": "lmofD3-z6rNL"
      },
      "execution_count": null,
      "outputs": []
    },
    {
      "cell_type": "markdown",
      "source": [
        "**Creating Model**"
      ],
      "metadata": {
        "id": "6PVKqKXv6uIy"
      }
    },
    {
      "cell_type": "code",
      "source": [
        "My_Input = layers.Input(shape=(28, 28, 1))\n",
        "conv_1 = layers.Conv2D(16, 3, activation=\"relu\", padding=\"same\", strides=2)(My_Input)\n",
        "conv_2 = layers.Conv2D(32, 3, activation=\"relu\", padding=\"same\")(conv_1)\n",
        "flat = layers.Flatten()(conv_2)\n",
        "out_layer = layers.Dense(10, activation=\"softmax\")(flat)\n",
        "MyModel = Model(My_Input, out_layer)"
      ],
      "metadata": {
        "id": "jyAVeUBk6xpB"
      },
      "execution_count": null,
      "outputs": []
    },
    {
      "cell_type": "code",
      "source": [
        "MyModel.summary()"
      ],
      "metadata": {
        "colab": {
          "base_uri": "https://localhost:8080/"
        },
        "id": "ndeNlM9h7C67",
        "outputId": "18cddd71-7413-4c53-844a-93fa6b463768"
      },
      "execution_count": null,
      "outputs": [
        {
          "output_type": "stream",
          "name": "stdout",
          "text": [
            "Model: \"model\"\n",
            "_________________________________________________________________\n",
            " Layer (type)                Output Shape              Param #   \n",
            "=================================================================\n",
            " input_1 (InputLayer)        [(None, 28, 28, 1)]       0         \n",
            "                                                                 \n",
            " conv2d (Conv2D)             (None, 14, 14, 16)        160       \n",
            "                                                                 \n",
            " conv2d_1 (Conv2D)           (None, 14, 14, 32)        4640      \n",
            "                                                                 \n",
            " flatten (Flatten)           (None, 6272)              0         \n",
            "                                                                 \n",
            " dense (Dense)               (None, 10)                62730     \n",
            "                                                                 \n",
            "=================================================================\n",
            "Total params: 67,530\n",
            "Trainable params: 67,530\n",
            "Non-trainable params: 0\n",
            "_________________________________________________________________\n"
          ]
        }
      ]
    },
    {
      "cell_type": "code",
      "source": [
        "MyModel.compile(optimizer=keras.optimizers.Adam(), loss=keras.losses.categorical_crossentropy, metrics=[\"accuracy\"])"
      ],
      "metadata": {
        "id": "OHPmfEah7GT5"
      },
      "execution_count": null,
      "outputs": []
    },
    {
      "cell_type": "markdown",
      "source": [
        "**Model Training**"
      ],
      "metadata": {
        "id": "vIls2_tO7Lh-"
      }
    },
    {
      "cell_type": "code",
      "source": [
        "Network_history = MyModel.fit(X_train, Y_train, batch_size=128, epochs=25, validation_split=0.02)"
      ],
      "metadata": {
        "colab": {
          "base_uri": "https://localhost:8080/"
        },
        "id": "oGxpFJRX7I9y",
        "outputId": "bee43a51-eb5c-4bce-83dc-c0dbd187729e"
      },
      "execution_count": null,
      "outputs": [
        {
          "output_type": "stream",
          "name": "stdout",
          "text": [
            "Epoch 1/25\n",
            "460/460 [==============================] - 41s 87ms/step - loss: 0.3143 - accuracy: 0.9118 - val_loss: 0.1196 - val_accuracy: 0.9775\n",
            "Epoch 2/25\n",
            "460/460 [==============================] - 20s 44ms/step - loss: 0.0918 - accuracy: 0.9727 - val_loss: 0.0956 - val_accuracy: 0.9783\n",
            "Epoch 3/25\n",
            "460/460 [==============================] - 19s 41ms/step - loss: 0.0644 - accuracy: 0.9814 - val_loss: 0.0883 - val_accuracy: 0.9850\n",
            "Epoch 4/25\n",
            "460/460 [==============================] - 20s 44ms/step - loss: 0.0493 - accuracy: 0.9852 - val_loss: 0.0739 - val_accuracy: 0.9892\n",
            "Epoch 5/25\n",
            "460/460 [==============================] - 20s 43ms/step - loss: 0.0399 - accuracy: 0.9870 - val_loss: 0.0820 - val_accuracy: 0.9883\n",
            "Epoch 6/25\n",
            "460/460 [==============================] - 21s 45ms/step - loss: 0.0330 - accuracy: 0.9898 - val_loss: 0.0713 - val_accuracy: 0.9883\n",
            "Epoch 7/25\n",
            "460/460 [==============================] - 21s 45ms/step - loss: 0.0272 - accuracy: 0.9912 - val_loss: 0.0782 - val_accuracy: 0.9892\n",
            "Epoch 8/25\n",
            "460/460 [==============================] - 19s 40ms/step - loss: 0.0228 - accuracy: 0.9928 - val_loss: 0.0796 - val_accuracy: 0.9875\n",
            "Epoch 9/25\n",
            "460/460 [==============================] - 19s 42ms/step - loss: 0.0186 - accuracy: 0.9941 - val_loss: 0.0783 - val_accuracy: 0.9867\n",
            "Epoch 10/25\n",
            "460/460 [==============================] - 19s 41ms/step - loss: 0.0158 - accuracy: 0.9950 - val_loss: 0.0861 - val_accuracy: 0.9875\n",
            "Epoch 11/25\n",
            "460/460 [==============================] - 19s 42ms/step - loss: 0.0135 - accuracy: 0.9956 - val_loss: 0.0932 - val_accuracy: 0.9883\n",
            "Epoch 12/25\n",
            "460/460 [==============================] - 19s 42ms/step - loss: 0.0113 - accuracy: 0.9965 - val_loss: 0.0898 - val_accuracy: 0.9875\n",
            "Epoch 13/25\n",
            "460/460 [==============================] - 19s 41ms/step - loss: 0.0094 - accuracy: 0.9972 - val_loss: 0.0857 - val_accuracy: 0.9883\n",
            "Epoch 14/25\n",
            "460/460 [==============================] - 20s 42ms/step - loss: 0.0085 - accuracy: 0.9973 - val_loss: 0.0933 - val_accuracy: 0.9875\n",
            "Epoch 15/25\n",
            "460/460 [==============================] - 19s 41ms/step - loss: 0.0070 - accuracy: 0.9979 - val_loss: 0.0904 - val_accuracy: 0.9900\n",
            "Epoch 16/25\n",
            "460/460 [==============================] - 20s 43ms/step - loss: 0.0068 - accuracy: 0.9978 - val_loss: 0.1024 - val_accuracy: 0.9867\n",
            "Epoch 17/25\n",
            "460/460 [==============================] - 19s 41ms/step - loss: 0.0046 - accuracy: 0.9988 - val_loss: 0.0961 - val_accuracy: 0.9917\n",
            "Epoch 18/25\n",
            "460/460 [==============================] - 20s 44ms/step - loss: 0.0038 - accuracy: 0.9990 - val_loss: 0.1072 - val_accuracy: 0.9908\n",
            "Epoch 19/25\n",
            "460/460 [==============================] - 19s 40ms/step - loss: 0.0052 - accuracy: 0.9983 - val_loss: 0.1043 - val_accuracy: 0.9900\n",
            "Epoch 20/25\n",
            "460/460 [==============================] - 20s 44ms/step - loss: 0.0044 - accuracy: 0.9986 - val_loss: 0.1090 - val_accuracy: 0.9908\n",
            "Epoch 21/25\n",
            "460/460 [==============================] - 19s 40ms/step - loss: 0.0031 - accuracy: 0.9992 - val_loss: 0.1049 - val_accuracy: 0.9908\n",
            "Epoch 22/25\n",
            "460/460 [==============================] - 20s 43ms/step - loss: 0.0013 - accuracy: 0.9998 - val_loss: 0.1131 - val_accuracy: 0.9900\n",
            "Epoch 23/25\n",
            "460/460 [==============================] - 19s 40ms/step - loss: 0.0010 - accuracy: 0.9998 - val_loss: 0.1295 - val_accuracy: 0.9892\n",
            "Epoch 24/25\n",
            "460/460 [==============================] - 20s 43ms/step - loss: 8.1513e-04 - accuracy: 0.9998 - val_loss: 0.1524 - val_accuracy: 0.9850\n",
            "Epoch 25/25\n",
            "460/460 [==============================] - 19s 40ms/step - loss: 0.0086 - accuracy: 0.9971 - val_loss: 0.1146 - val_accuracy: 0.9900\n"
          ]
        }
      ]
    },
    {
      "cell_type": "code",
      "source": [
        "history = Network_history.history"
      ],
      "metadata": {
        "id": "lhr-ulSd7RlH"
      },
      "execution_count": null,
      "outputs": []
    },
    {
      "cell_type": "code",
      "source": [
        "history.keys()"
      ],
      "metadata": {
        "colab": {
          "base_uri": "https://localhost:8080/"
        },
        "id": "x7vNHAfh7UO7",
        "outputId": "9f5112e1-8b79-4488-8389-34f74f48bab0"
      },
      "execution_count": null,
      "outputs": [
        {
          "output_type": "execute_result",
          "data": {
            "text/plain": [
              "dict_keys(['loss', 'accuracy', 'val_loss', 'val_accuracy'])"
            ]
          },
          "metadata": {},
          "execution_count": 12
        }
      ]
    },
    {
      "cell_type": "code",
      "source": [
        "losses = history[\"loss\"]\n",
        "accuracies = history[\"accuracy\"]\n",
        "val_loss = history[\"val_loss\"]\n",
        "val_accuracy = history[\"val_accuracy\"]"
      ],
      "metadata": {
        "id": "bY9q7q-u7WiA"
      },
      "execution_count": null,
      "outputs": []
    },
    {
      "cell_type": "code",
      "source": [
        "plt.xlabel(\"Epochs\")\n",
        "plt.ylabel(\"Loss\")\n",
        "plt.plot(losses)\n",
        "plt.plot(val_loss)\n",
        "plt.legend([\"loss\", \"val_loss\"])"
      ],
      "metadata": {
        "colab": {
          "base_uri": "https://localhost:8080/",
          "height": 467
        },
        "id": "KJDlrXoN7amN",
        "outputId": "3138a102-3883-4307-f487-e5e3bbd26de9"
      },
      "execution_count": null,
      "outputs": [
        {
          "output_type": "execute_result",
          "data": {
            "text/plain": [
              "<matplotlib.legend.Legend at 0x7e9c3d0d1b10>"
            ]
          },
          "metadata": {},
          "execution_count": 14
        },
        {
          "output_type": "display_data",
          "data": {
            "text/plain": [
              "<Figure size 640x480 with 1 Axes>"
            ],
            "image/png": "[encoded data removed]"
          },
          "metadata": {}
        }
      ]
    },
    {
      "cell_type": "code",
      "source": [
        "plt.xlabel(\"Epochs\")\n",
        "plt.ylabel(\"Accuracy\")\n",
        "plt.plot(accuracies)\n",
        "plt.plot(val_accuracy)\n",
        "plt.legend([\"accuracies\", \"val_accuracy\"])"
      ],
      "metadata": {
        "colab": {
          "base_uri": "https://localhost:8080/",
          "height": 467
        },
        "id": "LCK4joU77e3Y",
        "outputId": "9a5caa32-4d94-4e6b-bcbb-414c482685db"
      },
      "execution_count": null,
      "outputs": [
        {
          "output_type": "execute_result",
          "data": {
            "text/plain": [
              "<matplotlib.legend.Legend at 0x7e9c58956320>"
            ]
          },
          "metadata": {},
          "execution_count": 15
        },
        {
          "output_type": "display_data",
          "data": {
            "text/plain": [
              "<Figure size 640x480 with 1 Axes>"
            ],
            "image/png": "[encoded data removed]"
          },
          "metadata": {}
        }
      ]
    },
    {
      "cell_type": "code",
      "source": [
        "test_loss , test_accuracy = MyModel.evaluate(X_test, Y_test)"
      ],
      "metadata": {
        "colab": {
          "base_uri": "https://localhost:8080/"
        },
        "id": "2H5k49EI7jBn",
        "outputId": "520d7733-0591-46de-fc92-255fb4d7b8ba"
      },
      "execution_count": null,
      "outputs": [
        {
          "output_type": "stream",
          "name": "stdout",
          "text": [
            "313/313 [==============================] - 1s 5ms/step - loss: 0.0706 - accuracy: 0.9852\n"
          ]
        }
      ]
    },
    {
      "cell_type": "code",
      "source": [
        "test_label_predict = MyModel.predict(X_test)\n",
        "test_label_predict = np.argmax(test_label_predict, axis=1)"
      ],
      "metadata": {
        "colab": {
          "base_uri": "https://localhost:8080/"
        },
        "id": "wYr5rRUh7lqQ",
        "outputId": "0c9e792e-afe1-4446-87e8-a9f9b7b18108"
      },
      "execution_count": null,
      "outputs": [
        {
          "output_type": "stream",
          "name": "stdout",
          "text": [
            "313/313 [==============================] - 2s 7ms/step\n"
          ]
        }
      ]
    },
    {
      "cell_type": "code",
      "source": [
        "MyModel.layers[0].get_config()"
      ],
      "metadata": {
        "colab": {
          "base_uri": "https://localhost:8080/"
        },
        "id": "9oQrkebr7obQ",
        "outputId": "58a772f0-1015-4036-ceb0-b94826b518e3"
      },
      "execution_count": null,
      "outputs": [
        {
          "output_type": "execute_result",
          "data": {
            "text/plain": [
              "{'batch_input_shape': (None, 28, 28, 1),\n",
              " 'dtype': 'float32',\n",
              " 'sparse': False,\n",
              " 'ragged': False,\n",
              " 'name': 'input_1'}"
            ]
          },
          "metadata": {},
          "execution_count": 18
        }
      ]
    }
  ]
}