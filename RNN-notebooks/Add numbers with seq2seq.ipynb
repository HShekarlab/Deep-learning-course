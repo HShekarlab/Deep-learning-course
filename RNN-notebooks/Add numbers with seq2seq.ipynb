{
 "cells": [
  {
   "cell_type": "code",
   "execution_count": 1,
   "metadata": {},
   "outputs": [],
   "source": [
    "from random import seed, randint\n",
    "from numpy import array, argmax\n",
    "from math import ceil, log10, sqrt\n",
    "from keras.models import Sequential\n",
    "from keras.layers import Dense, LSTM, TimeDistributed, RepeatVector"
   ]
  },
  {
   "cell_type": "code",
   "execution_count": 2,
   "metadata": {},
   "outputs": [],
   "source": [
    "def random_sum_pairs(n_examples, n_numbers, largest):\n",
    "    X, y = list(), list()\n",
    "    for i in range(n_examples):\n",
    "        in_pattern = [randint(1, largest) for _ in range(n_numbers)]\n",
    "        out_pattern = sum(in_pattern)\n",
    "        X.append(in_pattern)\n",
    "        y.append(out_pattern)\n",
    "    return X, y"
   ]
  },
  {
   "cell_type": "code",
   "execution_count": 3,
   "metadata": {},
   "outputs": [
    {
     "name": "stdout",
     "output_type": "stream",
     "text": [
      "100\n",
      "[11, 11, 8]\n",
      "30\n"
     ]
    }
   ],
   "source": [
    "x, y = random_sum_pairs(100, 3, 15)\n",
    "print(len(x))\n",
    "print(x[0])\n",
    "print(y[0])"
   ]
  },
  {
   "cell_type": "code",
   "execution_count": 4,
   "metadata": {},
   "outputs": [],
   "source": [
    "def to_string(X, y, n_numbers, largest):\n",
    "    max_length = n_numbers * ceil(log10(largest + 1)) + n_numbers - 1\n",
    "    Xstr = list()\n",
    "    for pattern in X:\n",
    "        strp = \"+\".join([str(n) for n in pattern])\n",
    "        strp = \"\".join([\" \" for _ in range(max_length - len(strp))]) + strp\n",
    "        Xstr.append(strp)\n",
    "    max_length = ceil(log10(n_numbers * (largest + 1)))\n",
    "    ystr = list()\n",
    "    for pattern in y:\n",
    "        strp = str(pattern)\n",
    "        strp = \"\".join([\" \" for _ in range(max_length - len(strp))]) + strp\n",
    "        ystr.append(strp)\n",
    "    return Xstr, ystr"
   ]
  },
  {
   "cell_type": "code",
   "execution_count": 5,
   "metadata": {},
   "outputs": [],
   "source": [
    "def integer_encode(X, y, alphabet):\n",
    "    char_to_int = dict((c, i) for i, c in enumerate(alphabet))\n",
    "    Xenc = list()\n",
    "    for pattern in X:\n",
    "        integer_encoded = [char_to_int[char] for char in pattern]\n",
    "        Xenc.append(integer_encoded)\n",
    "    yenc = list()\n",
    "    for pattern in y:\n",
    "        integer_encoded = [char_to_int[char] for char in pattern]\n",
    "        yenc.append(integer_encoded)\n",
    "    return Xenc, yenc"
   ]
  },
  {
   "cell_type": "code",
   "execution_count": 6,
   "metadata": {},
   "outputs": [],
   "source": [
    "def one_hot_encode(X, y, max_int):\n",
    "    Xenc = list()\n",
    "    for seq in X:\n",
    "        pattern = list()\n",
    "        for index in seq:\n",
    "            vector = [0 for _ in range(max_int)]\n",
    "            vector[index] = 1\n",
    "            pattern.append(vector)\n",
    "        Xenc.append(pattern)\n",
    "    yenc = list()\n",
    "    for seq in y:\n",
    "        pattern = list()\n",
    "        for index in seq:\n",
    "            vector = [0 for _ in range(max_int)]\n",
    "            vector[index] = 1\n",
    "            pattern.append(vector)\n",
    "        yenc.append(pattern)\n",
    "    return Xenc, yenc"
   ]
  },
  {
   "cell_type": "code",
   "execution_count": 7,
   "metadata": {},
   "outputs": [],
   "source": [
    "def generate_data(n_samples, n_numbers, largest, alphabet):\n",
    "    X, y = random_sum_pairs(n_samples, n_numbers, largest)\n",
    "    X, y = to_string(X, y, n_numbers, largest)\n",
    "    X, y = integer_encode(X, y, alphabet)\n",
    "    X, y = one_hot_encode(X, y, len(alphabet))\n",
    "    X, y = array(X), array(y)\n",
    "    return X, y"
   ]
  },
  {
   "cell_type": "code",
   "execution_count": 8,
   "metadata": {},
   "outputs": [],
   "source": [
    "def invert(seq, alphabet):\n",
    "    int_to_char = dict((i, c) for i, c in enumerate(alphabet))\n",
    "    strings = list()\n",
    "    for pattern in seq:\n",
    "        string = int_to_char[argmax(pattern)]\n",
    "        strings.append(string)\n",
    "    return \"\".join(strings)"
   ]
  },
  {
   "cell_type": "code",
   "execution_count": 9,
   "metadata": {},
   "outputs": [],
   "source": [
    "seed(1)\n",
    "n_samples = 1000\n",
    "n_numbers = 2\n",
    "largest = 10\n",
    "alphabet = [\"0\", \"1\", \"2\", \"3\", \"4\", \"5\", \"6\", \"7\", \"8\", \"9\", \"+\", \"-\", \"*\", \"/\", \" \"]\n",
    "n_chars = len(alphabet)\n",
    "n_in_seq_length = n_numbers * ceil(log10(largest + 1)) + n_numbers - 1\n",
    "n_out_seq_length = ceil(log10(n_numbers * (largest + 1)))"
   ]
  },
  {
   "cell_type": "code",
   "execution_count": 10,
   "metadata": {},
   "outputs": [],
   "source": [
    "X, y = generate_data(n_samples, n_numbers, largest, alphabet)"
   ]
  },
  {
   "cell_type": "code",
   "execution_count": 11,
   "metadata": {},
   "outputs": [
    {
     "name": "stdout",
     "output_type": "stream",
     "text": [
      "shape of X (1000, 5, 15)\n",
      "shape of y (1000, 2, 15)\n",
      "X[0]:\n",
      "[[0 0 0 0 0 0 0 0 0 0 0 0 0 0 1]\n",
      " [0 0 0 1 0 0 0 0 0 0 0 0 0 0 0]\n",
      " [0 0 0 0 0 0 0 0 0 0 1 0 0 0 0]\n",
      " [0 1 0 0 0 0 0 0 0 0 0 0 0 0 0]\n",
      " [1 0 0 0 0 0 0 0 0 0 0 0 0 0 0]]\n",
      "y[0]\n",
      "[[0 1 0 0 0 0 0 0 0 0 0 0 0 0 0]\n",
      " [0 0 0 1 0 0 0 0 0 0 0 0 0 0 0]]\n",
      "invert X[0]  3+10\n",
      "invert y[0] 13\n"
     ]
    }
   ],
   "source": [
    "print(\"shape of X\", X.shape)\n",
    "print(\"shape of y\", y.shape)\n",
    "print(\"X[0]:\")\n",
    "print(X[0])\n",
    "print(\"y[0]\")\n",
    "print(y[0])\n",
    "\n",
    "print(\"invert X[0]\", invert(X[0], alphabet) )\n",
    "print(\"invert y[0]\", invert(y[0], alphabet) )"
   ]
  },
  {
   "cell_type": "code",
   "execution_count": 12,
   "metadata": {},
   "outputs": [],
   "source": [
    "n_batch = 10\n",
    "n_epoch = 30"
   ]
  },
  {
   "cell_type": "code",
   "execution_count": 13,
   "metadata": {},
   "outputs": [
    {
     "name": "stdout",
     "output_type": "stream",
     "text": [
      "Model: \"sequential\"\n",
      "_________________________________________________________________\n",
      " Layer (type)                Output Shape              Param #   \n",
      "=================================================================\n",
      " lstm (LSTM)                 (None, 100)               46400     \n",
      "                                                                 \n",
      " repeat_vector (RepeatVecto  (None, 2, 100)            0         \n",
      " r)                                                              \n",
      "                                                                 \n",
      " lstm_1 (LSTM)               (None, 2, 50)             30200     \n",
      "                                                                 \n",
      " time_distributed (TimeDist  (None, 2, 15)             765       \n",
      " ributed)                                                        \n",
      "                                                                 \n",
      "=================================================================\n",
      "Total params: 77365 (302.21 KB)\n",
      "Trainable params: 77365 (302.21 KB)\n",
      "Non-trainable params: 0 (0.00 Byte)\n",
      "_________________________________________________________________\n",
      "None\n"
     ]
    }
   ],
   "source": [
    "model = Sequential()\n",
    "model.add(LSTM(100, input_shape = (n_in_seq_length, n_chars)))\n",
    "model.add(RepeatVector(n_out_seq_length))\n",
    "model.add(LSTM(50, return_sequences = True))\n",
    "model.add(TimeDistributed(Dense(n_chars, activation= \"softmax\")))\n",
    "model.compile(loss= \"categorical_crossentropy\", optimizer= \"adam\", metrics= [\"accuracy\"])\n",
    "print(model.summary())"
   ]
  },
  {
   "cell_type": "code",
   "execution_count": 14,
   "metadata": {},
   "outputs": [
    {
     "name": "stdout",
     "output_type": "stream",
     "text": [
      "0\n",
      "100/100 [==============================] - 7s 9ms/step - loss: 2.1104 - accuracy: 0.3445\n",
      "1\n",
      "100/100 [==============================] - 1s 8ms/step - loss: 1.5421 - accuracy: 0.3655\n",
      "2\n",
      "100/100 [==============================] - 1s 9ms/step - loss: 1.3869 - accuracy: 0.4590\n",
      "3\n",
      "100/100 [==============================] - 1s 9ms/step - loss: 1.2872 - accuracy: 0.5160\n",
      "4\n",
      "100/100 [==============================] - 1s 9ms/step - loss: 1.1871 - accuracy: 0.5625\n",
      "5\n",
      "100/100 [==============================] - 1s 9ms/step - loss: 1.0716 - accuracy: 0.6190\n",
      "6\n",
      "100/100 [==============================] - 1s 9ms/step - loss: 0.9105 - accuracy: 0.6780\n",
      "7\n",
      "100/100 [==============================] - 1s 9ms/step - loss: 0.7541 - accuracy: 0.7685\n",
      "8\n",
      "100/100 [==============================] - 1s 9ms/step - loss: 0.6432 - accuracy: 0.8520\n",
      "9\n",
      "100/100 [==============================] - 1s 9ms/step - loss: 0.5424 - accuracy: 0.9100\n",
      "10\n",
      "100/100 [==============================] - 1s 9ms/step - loss: 0.4692 - accuracy: 0.9280\n",
      "11\n",
      "100/100 [==============================] - 1s 9ms/step - loss: 0.3977 - accuracy: 0.9560\n",
      "12\n",
      "100/100 [==============================] - 1s 9ms/step - loss: 0.3995 - accuracy: 0.9085\n",
      "13\n",
      "100/100 [==============================] - 1s 9ms/step - loss: 0.3537 - accuracy: 0.9440\n",
      "14\n",
      "100/100 [==============================] - 1s 9ms/step - loss: 0.2878 - accuracy: 0.9770\n",
      "15\n",
      "100/100 [==============================] - 1s 10ms/step - loss: 0.2534 - accuracy: 0.9885\n",
      "16\n",
      "100/100 [==============================] - 1s 10ms/step - loss: 0.2262 - accuracy: 0.9865\n",
      "17\n",
      "100/100 [==============================] - 1s 10ms/step - loss: 0.2086 - accuracy: 0.9870\n",
      "18\n",
      "100/100 [==============================] - 1s 11ms/step - loss: 0.1822 - accuracy: 0.9900\n",
      "19\n",
      "100/100 [==============================] - 1s 9ms/step - loss: 0.1684 - accuracy: 0.9945\n",
      "20\n",
      "100/100 [==============================] - 1s 9ms/step - loss: 0.1509 - accuracy: 0.9900\n",
      "21\n",
      "100/100 [==============================] - 1s 10ms/step - loss: 0.1399 - accuracy: 0.9830\n",
      "22\n",
      "100/100 [==============================] - 1s 10ms/step - loss: 0.1294 - accuracy: 0.9925\n",
      "23\n",
      "100/100 [==============================] - 1s 10ms/step - loss: 0.2420 - accuracy: 0.9310\n",
      "24\n",
      "100/100 [==============================] - 1s 10ms/step - loss: 0.1086 - accuracy: 0.9950\n",
      "25\n",
      "100/100 [==============================] - 1s 10ms/step - loss: 0.0905 - accuracy: 0.9960\n",
      "26\n",
      "100/100 [==============================] - 1s 11ms/step - loss: 0.0859 - accuracy: 0.9940\n",
      "27\n",
      "100/100 [==============================] - 1s 10ms/step - loss: 0.0762 - accuracy: 0.9960\n",
      "28\n",
      "100/100 [==============================] - 1s 10ms/step - loss: 0.0702 - accuracy: 0.9965\n",
      "29\n",
      "100/100 [==============================] - 1s 9ms/step - loss: 0.0619 - accuracy: 0.9970\n"
     ]
    }
   ],
   "source": [
    "for i in range(n_epoch):\n",
    "    X, y = generate_data(n_samples, n_numbers, largest, alphabet)\n",
    "    print(i)\n",
    "    model.fit(X, y, epochs = 1, batch_size = n_batch)"
   ]
  },
  {
   "cell_type": "code",
   "execution_count": 15,
   "metadata": {},
   "outputs": [
    {
     "name": "stdout",
     "output_type": "stream",
     "text": [
      "Expected=15, Predicted=15\n",
      "Expected=12, Predicted=12\n",
      "Expected=12, Predicted=12\n",
      "Expected=13, Predicted=13\n",
      "Expected=15, Predicted=15\n",
      "Expected= 8, Predicted= 8\n",
      "Expected= 4, Predicted= 4\n",
      "Expected=19, Predicted=19\n",
      "Expected=13, Predicted=13\n",
      "Expected=15, Predicted=15\n",
      "Expected= 8, Predicted= 8\n",
      "Expected=13, Predicted=13\n",
      "Expected= 4, Predicted= 4\n",
      "Expected=16, Predicted=16\n",
      "Expected=13, Predicted=13\n",
      "Expected=16, Predicted=16\n",
      "Expected= 8, Predicted= 8\n",
      "Expected=14, Predicted=14\n",
      "Expected=16, Predicted=16\n",
      "Expected= 3, Predicted= 3\n"
     ]
    }
   ],
   "source": [
    "X, y = generate_data(n_samples, n_numbers, largest, alphabet)\n",
    "result = model.predict(X, batch_size = n_batch, verbose = 0)\n",
    "expected = [invert(x, alphabet) for x in y]\n",
    "predicted = [invert(x, alphabet) for x in result]\n",
    "for i in range(20):\n",
    "    print(\"Expected=%s, Predicted=%s\" % (expected[i], predicted[i]))"
   ]
  }
 ],
 "metadata": {
  "kernelspec": {
   "display_name": "Python 3 (ipykernel)",
   "language": "python",
   "name": "python3"
  },
  "language_info": {
   "codemirror_mode": {
    "name": "ipython",
    "version": 3
   },
   "file_extension": ".py",
   "mimetype": "text/x-python",
   "name": "python",
   "nbconvert_exporter": "python",
   "pygments_lexer": "ipython3",
   "version": "3.10.7"
  }
 },
 "nbformat": 4,
 "nbformat_minor": 4
}
