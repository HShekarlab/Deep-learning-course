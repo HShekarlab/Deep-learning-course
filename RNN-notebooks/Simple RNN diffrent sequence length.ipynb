{
  "nbformat": 4,
  "nbformat_minor": 0,
  "metadata": {
    "colab": {
      "provenance": []
    },
    "kernelspec": {
      "name": "python3",
      "display_name": "Python 3"
    },
    "language_info": {
      "name": "python"
    }
  },
  "cells": [
    {
      "cell_type": "code",
      "source": [
        "import pandas as pd\n",
        "import numpy as np\n",
        "from keras.models import Sequential\n",
        "from keras.layers import Dense, SimpleRNN\n",
        "import matplotlib.pyplot as plt"
      ],
      "metadata": {
        "id": "zIUpEN1k9Roa"
      },
      "execution_count": 1,
      "outputs": []
    },
    {
      "cell_type": "code",
      "source": [
        "t = np.arange(0,2500)\n",
        "x = np.sin(0.02 * t) + np.random.rand(2500) * 2"
      ],
      "metadata": {
        "id": "X9VXoBIr9XMn"
      },
      "execution_count": 2,
      "outputs": []
    },
    {
      "cell_type": "code",
      "source": [
        "train,test = x[0:2000], x[2000:]"
      ],
      "metadata": {
        "id": "v34dUknq9Y9v"
      },
      "execution_count": 3,
      "outputs": []
    },
    {
      "cell_type": "code",
      "source": [
        "def convertToDataset(data, step):\n",
        "    X, Y =[], []\n",
        "    for i in range(len(data)-step):\n",
        "        d=i+step\n",
        "        X.append(data[i:d,])\n",
        "        Y.append(data[d,])\n",
        "    return np.array(X), np.array(Y)"
      ],
      "metadata": {
        "id": "Dlo2I3iX9bPU"
      },
      "execution_count": 4,
      "outputs": []
    },
    {
      "cell_type": "code",
      "source": [
        "train_step = 10\n",
        "test_step = 20\n",
        "\n",
        "x_train, y_train = convertToDataset(train, train_step)\n",
        "x_test, y_test = convertToDataset(test, test_step)"
      ],
      "metadata": {
        "id": "XYZtXG_R9kI9"
      },
      "execution_count": 5,
      "outputs": []
    },
    {
      "cell_type": "code",
      "source": [
        "x_train = np.reshape(x_train, (x_train.shape[0], x_train.shape[1], 1))\n",
        "x_test = np.reshape(x_test, (x_test.shape[0], x_test.shape[1], 1))"
      ],
      "metadata": {
        "id": "NwXDC58j97_V"
      },
      "execution_count": 6,
      "outputs": []
    },
    {
      "cell_type": "code",
      "source": [
        "x_train.shape"
      ],
      "metadata": {
        "colab": {
          "base_uri": "https://localhost:8080/"
        },
        "id": "4RTJu71R-Vem",
        "outputId": "14315fef-9d32-4a49-f0bb-897a770f02e5"
      },
      "execution_count": 7,
      "outputs": [
        {
          "output_type": "execute_result",
          "data": {
            "text/plain": [
              "(1990, 10, 1)"
            ]
          },
          "metadata": {},
          "execution_count": 7
        }
      ]
    },
    {
      "cell_type": "code",
      "source": [
        "x_test.shape"
      ],
      "metadata": {
        "colab": {
          "base_uri": "https://localhost:8080/"
        },
        "id": "xh1Ex_AQ-YRG",
        "outputId": "eb785e55-a719-4474-b530-d8d0f1ec28a6"
      },
      "execution_count": 8,
      "outputs": [
        {
          "output_type": "execute_result",
          "data": {
            "text/plain": [
              "(480, 20, 1)"
            ]
          },
          "metadata": {},
          "execution_count": 8
        }
      ]
    },
    {
      "cell_type": "code",
      "source": [
        "model = Sequential()\n",
        "model.add(SimpleRNN(units = 64, input_shape = (None, 1), activation = \"tanh\"))\n",
        "model.add(Dense(1))\n",
        "model.compile(loss = \"mean_squared_error\", optimizer=\"rmsprop\")"
      ],
      "metadata": {
        "id": "GgyAiTIn-aUn"
      },
      "execution_count": 9,
      "outputs": []
    },
    {
      "cell_type": "code",
      "source": [
        "model.summary()"
      ],
      "metadata": {
        "colab": {
          "base_uri": "https://localhost:8080/"
        },
        "id": "UWb_ODZW_Qdk",
        "outputId": "4854377a-ef87-4732-e0d7-018334cb2753"
      },
      "execution_count": 10,
      "outputs": [
        {
          "output_type": "stream",
          "name": "stdout",
          "text": [
            "Model: \"sequential\"\n",
            "_________________________________________________________________\n",
            " Layer (type)                Output Shape              Param #   \n",
            "=================================================================\n",
            " simple_rnn (SimpleRNN)      (None, 64)                4224      \n",
            "                                                                 \n",
            " dense (Dense)               (None, 1)                 65        \n",
            "                                                                 \n",
            "=================================================================\n",
            "Total params: 4289 (16.75 KB)\n",
            "Trainable params: 4289 (16.75 KB)\n",
            "Non-trainable params: 0 (0.00 Byte)\n",
            "_________________________________________________________________\n"
          ]
        }
      ]
    },
    {
      "cell_type": "code",
      "source": [
        "model.input"
      ],
      "metadata": {
        "colab": {
          "base_uri": "https://localhost:8080/"
        },
        "id": "-GSEVf_u_SjP",
        "outputId": "dfaeaa69-7890-4485-bf1f-966279e53337"
      },
      "execution_count": 11,
      "outputs": [
        {
          "output_type": "execute_result",
          "data": {
            "text/plain": [
              "<KerasTensor: shape=(None, None, 1) dtype=float32 (created by layer 'simple_rnn_input')>"
            ]
          },
          "metadata": {},
          "execution_count": 11
        }
      ]
    },
    {
      "cell_type": "code",
      "source": [
        "history = model.fit(x_train, y_train, epochs = 200, batch_size = 16, verbose = 2)"
      ],
      "metadata": {
        "colab": {
          "base_uri": "https://localhost:8080/"
        },
        "id": "hD8_hq8L_XQn",
        "outputId": "bfddd800-a509-48d4-f1b3-1d19087ba544"
      },
      "execution_count": 12,
      "outputs": [
        {
          "output_type": "stream",
          "name": "stdout",
          "text": [
            "Epoch 1/200\n",
            "125/125 - 4s - loss: 0.4628 - 4s/epoch - 31ms/step\n",
            "Epoch 2/200\n",
            "125/125 - 1s - loss: 0.3962 - 816ms/epoch - 7ms/step\n",
            "Epoch 3/200\n",
            "125/125 - 1s - loss: 0.3939 - 712ms/epoch - 6ms/step\n",
            "Epoch 4/200\n",
            "125/125 - 1s - loss: 0.3899 - 642ms/epoch - 5ms/step\n",
            "Epoch 5/200\n",
            "125/125 - 1s - loss: 0.3844 - 756ms/epoch - 6ms/step\n",
            "Epoch 6/200\n",
            "125/125 - 1s - loss: 0.3793 - 596ms/epoch - 5ms/step\n",
            "Epoch 7/200\n",
            "125/125 - 1s - loss: 0.3807 - 647ms/epoch - 5ms/step\n",
            "Epoch 8/200\n",
            "125/125 - 1s - loss: 0.3786 - 632ms/epoch - 5ms/step\n",
            "Epoch 9/200\n",
            "125/125 - 1s - loss: 0.3794 - 683ms/epoch - 5ms/step\n",
            "Epoch 10/200\n",
            "125/125 - 1s - loss: 0.3786 - 655ms/epoch - 5ms/step\n",
            "Epoch 11/200\n",
            "125/125 - 1s - loss: 0.3807 - 719ms/epoch - 6ms/step\n",
            "Epoch 12/200\n",
            "125/125 - 1s - loss: 0.3737 - 713ms/epoch - 6ms/step\n",
            "Epoch 13/200\n",
            "125/125 - 1s - loss: 0.3767 - 859ms/epoch - 7ms/step\n",
            "Epoch 14/200\n",
            "125/125 - 1s - loss: 0.3723 - 961ms/epoch - 8ms/step\n",
            "Epoch 15/200\n",
            "125/125 - 1s - loss: 0.3765 - 1s/epoch - 8ms/step\n",
            "Epoch 16/200\n",
            "125/125 - 1s - loss: 0.3736 - 1s/epoch - 11ms/step\n",
            "Epoch 17/200\n",
            "125/125 - 1s - loss: 0.3702 - 1s/epoch - 8ms/step\n",
            "Epoch 18/200\n",
            "125/125 - 1s - loss: 0.3687 - 643ms/epoch - 5ms/step\n",
            "Epoch 19/200\n",
            "125/125 - 1s - loss: 0.3705 - 715ms/epoch - 6ms/step\n",
            "Epoch 20/200\n",
            "125/125 - 1s - loss: 0.3696 - 818ms/epoch - 7ms/step\n",
            "Epoch 21/200\n",
            "125/125 - 1s - loss: 0.3653 - 1s/epoch - 9ms/step\n",
            "Epoch 22/200\n",
            "125/125 - 1s - loss: 0.3679 - 1s/epoch - 8ms/step\n",
            "Epoch 23/200\n",
            "125/125 - 1s - loss: 0.3652 - 1000ms/epoch - 8ms/step\n",
            "Epoch 24/200\n",
            "125/125 - 1s - loss: 0.3635 - 744ms/epoch - 6ms/step\n",
            "Epoch 25/200\n",
            "125/125 - 1s - loss: 0.3635 - 772ms/epoch - 6ms/step\n",
            "Epoch 26/200\n",
            "125/125 - 1s - loss: 0.3588 - 775ms/epoch - 6ms/step\n",
            "Epoch 27/200\n",
            "125/125 - 1s - loss: 0.3582 - 913ms/epoch - 7ms/step\n",
            "Epoch 28/200\n",
            "125/125 - 1s - loss: 0.3583 - 732ms/epoch - 6ms/step\n",
            "Epoch 29/200\n",
            "125/125 - 1s - loss: 0.3606 - 865ms/epoch - 7ms/step\n",
            "Epoch 30/200\n",
            "125/125 - 1s - loss: 0.3561 - 951ms/epoch - 8ms/step\n",
            "Epoch 31/200\n",
            "125/125 - 1s - loss: 0.3568 - 1s/epoch - 8ms/step\n",
            "Epoch 32/200\n",
            "125/125 - 1s - loss: 0.3515 - 899ms/epoch - 7ms/step\n",
            "Epoch 33/200\n",
            "125/125 - 1s - loss: 0.3515 - 678ms/epoch - 5ms/step\n",
            "Epoch 34/200\n",
            "125/125 - 1s - loss: 0.3472 - 811ms/epoch - 6ms/step\n",
            "Epoch 35/200\n",
            "125/125 - 0s - loss: 0.3455 - 431ms/epoch - 3ms/step\n",
            "Epoch 36/200\n",
            "125/125 - 0s - loss: 0.3462 - 410ms/epoch - 3ms/step\n",
            "Epoch 37/200\n",
            "125/125 - 0s - loss: 0.3422 - 394ms/epoch - 3ms/step\n",
            "Epoch 38/200\n",
            "125/125 - 0s - loss: 0.3450 - 399ms/epoch - 3ms/step\n",
            "Epoch 39/200\n",
            "125/125 - 0s - loss: 0.3408 - 398ms/epoch - 3ms/step\n",
            "Epoch 40/200\n",
            "125/125 - 0s - loss: 0.3391 - 406ms/epoch - 3ms/step\n",
            "Epoch 41/200\n",
            "125/125 - 0s - loss: 0.3367 - 396ms/epoch - 3ms/step\n",
            "Epoch 42/200\n",
            "125/125 - 0s - loss: 0.3338 - 391ms/epoch - 3ms/step\n",
            "Epoch 43/200\n",
            "125/125 - 0s - loss: 0.3335 - 420ms/epoch - 3ms/step\n",
            "Epoch 44/200\n",
            "125/125 - 0s - loss: 0.3275 - 418ms/epoch - 3ms/step\n",
            "Epoch 45/200\n",
            "125/125 - 0s - loss: 0.3244 - 423ms/epoch - 3ms/step\n",
            "Epoch 46/200\n",
            "125/125 - 0s - loss: 0.3246 - 395ms/epoch - 3ms/step\n",
            "Epoch 47/200\n",
            "125/125 - 0s - loss: 0.3211 - 454ms/epoch - 4ms/step\n",
            "Epoch 48/200\n",
            "125/125 - 0s - loss: 0.3204 - 424ms/epoch - 3ms/step\n",
            "Epoch 49/200\n",
            "125/125 - 0s - loss: 0.3147 - 440ms/epoch - 4ms/step\n",
            "Epoch 50/200\n",
            "125/125 - 0s - loss: 0.3122 - 425ms/epoch - 3ms/step\n",
            "Epoch 51/200\n",
            "125/125 - 0s - loss: 0.3098 - 411ms/epoch - 3ms/step\n",
            "Epoch 52/200\n",
            "125/125 - 0s - loss: 0.3066 - 420ms/epoch - 3ms/step\n",
            "Epoch 53/200\n",
            "125/125 - 0s - loss: 0.3060 - 397ms/epoch - 3ms/step\n",
            "Epoch 54/200\n",
            "125/125 - 1s - loss: 0.2971 - 543ms/epoch - 4ms/step\n",
            "Epoch 55/200\n",
            "125/125 - 1s - loss: 0.2982 - 621ms/epoch - 5ms/step\n",
            "Epoch 56/200\n",
            "125/125 - 1s - loss: 0.2912 - 591ms/epoch - 5ms/step\n",
            "Epoch 57/200\n",
            "125/125 - 1s - loss: 0.2927 - 562ms/epoch - 4ms/step\n",
            "Epoch 58/200\n",
            "125/125 - 1s - loss: 0.2838 - 611ms/epoch - 5ms/step\n",
            "Epoch 59/200\n",
            "125/125 - 0s - loss: 0.2835 - 389ms/epoch - 3ms/step\n",
            "Epoch 60/200\n",
            "125/125 - 0s - loss: 0.2807 - 393ms/epoch - 3ms/step\n",
            "Epoch 61/200\n",
            "125/125 - 0s - loss: 0.2759 - 440ms/epoch - 4ms/step\n",
            "Epoch 62/200\n",
            "125/125 - 0s - loss: 0.2712 - 400ms/epoch - 3ms/step\n",
            "Epoch 63/200\n",
            "125/125 - 0s - loss: 0.2670 - 395ms/epoch - 3ms/step\n",
            "Epoch 64/200\n",
            "125/125 - 0s - loss: 0.2659 - 376ms/epoch - 3ms/step\n",
            "Epoch 65/200\n",
            "125/125 - 0s - loss: 0.2600 - 398ms/epoch - 3ms/step\n",
            "Epoch 66/200\n",
            "125/125 - 0s - loss: 0.2565 - 382ms/epoch - 3ms/step\n",
            "Epoch 67/200\n",
            "125/125 - 0s - loss: 0.2535 - 415ms/epoch - 3ms/step\n",
            "Epoch 68/200\n",
            "125/125 - 0s - loss: 0.2489 - 398ms/epoch - 3ms/step\n",
            "Epoch 69/200\n",
            "125/125 - 0s - loss: 0.2454 - 404ms/epoch - 3ms/step\n",
            "Epoch 70/200\n",
            "125/125 - 0s - loss: 0.2424 - 411ms/epoch - 3ms/step\n",
            "Epoch 71/200\n",
            "125/125 - 0s - loss: 0.2368 - 405ms/epoch - 3ms/step\n",
            "Epoch 72/200\n",
            "125/125 - 0s - loss: 0.2339 - 436ms/epoch - 3ms/step\n",
            "Epoch 73/200\n",
            "125/125 - 0s - loss: 0.2301 - 394ms/epoch - 3ms/step\n",
            "Epoch 74/200\n",
            "125/125 - 0s - loss: 0.2280 - 412ms/epoch - 3ms/step\n",
            "Epoch 75/200\n",
            "125/125 - 0s - loss: 0.2228 - 404ms/epoch - 3ms/step\n",
            "Epoch 76/200\n",
            "125/125 - 0s - loss: 0.2201 - 398ms/epoch - 3ms/step\n",
            "Epoch 77/200\n",
            "125/125 - 0s - loss: 0.2171 - 410ms/epoch - 3ms/step\n",
            "Epoch 78/200\n",
            "125/125 - 0s - loss: 0.2167 - 402ms/epoch - 3ms/step\n",
            "Epoch 79/200\n",
            "125/125 - 0s - loss: 0.2088 - 404ms/epoch - 3ms/step\n",
            "Epoch 80/200\n",
            "125/125 - 0s - loss: 0.2101 - 418ms/epoch - 3ms/step\n",
            "Epoch 81/200\n",
            "125/125 - 0s - loss: 0.2038 - 416ms/epoch - 3ms/step\n",
            "Epoch 82/200\n",
            "125/125 - 0s - loss: 0.2010 - 423ms/epoch - 3ms/step\n",
            "Epoch 83/200\n",
            "125/125 - 0s - loss: 0.1970 - 489ms/epoch - 4ms/step\n",
            "Epoch 84/200\n",
            "125/125 - 1s - loss: 0.1943 - 624ms/epoch - 5ms/step\n",
            "Epoch 85/200\n",
            "125/125 - 1s - loss: 0.1911 - 640ms/epoch - 5ms/step\n",
            "Epoch 86/200\n",
            "125/125 - 1s - loss: 0.1881 - 651ms/epoch - 5ms/step\n",
            "Epoch 87/200\n",
            "125/125 - 1s - loss: 0.1844 - 637ms/epoch - 5ms/step\n",
            "Epoch 88/200\n",
            "125/125 - 0s - loss: 0.1815 - 404ms/epoch - 3ms/step\n",
            "Epoch 89/200\n",
            "125/125 - 0s - loss: 0.1800 - 397ms/epoch - 3ms/step\n",
            "Epoch 90/200\n",
            "125/125 - 0s - loss: 0.1727 - 385ms/epoch - 3ms/step\n",
            "Epoch 91/200\n",
            "125/125 - 0s - loss: 0.1725 - 375ms/epoch - 3ms/step\n",
            "Epoch 92/200\n",
            "125/125 - 0s - loss: 0.1671 - 410ms/epoch - 3ms/step\n",
            "Epoch 93/200\n",
            "125/125 - 0s - loss: 0.1652 - 383ms/epoch - 3ms/step\n",
            "Epoch 94/200\n",
            "125/125 - 0s - loss: 0.1635 - 390ms/epoch - 3ms/step\n",
            "Epoch 95/200\n",
            "125/125 - 0s - loss: 0.1618 - 397ms/epoch - 3ms/step\n",
            "Epoch 96/200\n",
            "125/125 - 0s - loss: 0.1583 - 399ms/epoch - 3ms/step\n",
            "Epoch 97/200\n",
            "125/125 - 0s - loss: 0.1527 - 404ms/epoch - 3ms/step\n",
            "Epoch 98/200\n",
            "125/125 - 0s - loss: 0.1539 - 401ms/epoch - 3ms/step\n",
            "Epoch 99/200\n",
            "125/125 - 0s - loss: 0.1489 - 397ms/epoch - 3ms/step\n",
            "Epoch 100/200\n",
            "125/125 - 0s - loss: 0.1469 - 422ms/epoch - 3ms/step\n",
            "Epoch 101/200\n",
            "125/125 - 0s - loss: 0.1447 - 401ms/epoch - 3ms/step\n",
            "Epoch 102/200\n",
            "125/125 - 0s - loss: 0.1421 - 387ms/epoch - 3ms/step\n",
            "Epoch 103/200\n",
            "125/125 - 0s - loss: 0.1416 - 388ms/epoch - 3ms/step\n",
            "Epoch 104/200\n",
            "125/125 - 0s - loss: 0.1346 - 381ms/epoch - 3ms/step\n",
            "Epoch 105/200\n",
            "125/125 - 0s - loss: 0.1354 - 422ms/epoch - 3ms/step\n",
            "Epoch 106/200\n",
            "125/125 - 0s - loss: 0.1312 - 403ms/epoch - 3ms/step\n",
            "Epoch 107/200\n",
            "125/125 - 0s - loss: 0.1280 - 386ms/epoch - 3ms/step\n",
            "Epoch 108/200\n",
            "125/125 - 0s - loss: 0.1270 - 430ms/epoch - 3ms/step\n",
            "Epoch 109/200\n",
            "125/125 - 0s - loss: 0.1264 - 407ms/epoch - 3ms/step\n",
            "Epoch 110/200\n",
            "125/125 - 0s - loss: 0.1217 - 416ms/epoch - 3ms/step\n",
            "Epoch 111/200\n",
            "125/125 - 0s - loss: 0.1214 - 421ms/epoch - 3ms/step\n",
            "Epoch 112/200\n",
            "125/125 - 1s - loss: 0.1148 - 548ms/epoch - 4ms/step\n",
            "Epoch 113/200\n",
            "125/125 - 1s - loss: 0.1166 - 635ms/epoch - 5ms/step\n",
            "Epoch 114/200\n",
            "125/125 - 1s - loss: 0.1140 - 638ms/epoch - 5ms/step\n",
            "Epoch 115/200\n",
            "125/125 - 1s - loss: 0.1098 - 691ms/epoch - 6ms/step\n",
            "Epoch 116/200\n",
            "125/125 - 1s - loss: 0.1103 - 564ms/epoch - 5ms/step\n",
            "Epoch 117/200\n",
            "125/125 - 0s - loss: 0.1102 - 405ms/epoch - 3ms/step\n",
            "Epoch 118/200\n",
            "125/125 - 0s - loss: 0.1033 - 420ms/epoch - 3ms/step\n",
            "Epoch 119/200\n",
            "125/125 - 0s - loss: 0.1016 - 423ms/epoch - 3ms/step\n",
            "Epoch 120/200\n",
            "125/125 - 0s - loss: 0.1021 - 420ms/epoch - 3ms/step\n",
            "Epoch 121/200\n",
            "125/125 - 0s - loss: 0.1021 - 420ms/epoch - 3ms/step\n",
            "Epoch 122/200\n",
            "125/125 - 0s - loss: 0.0957 - 414ms/epoch - 3ms/step\n",
            "Epoch 123/200\n",
            "125/125 - 0s - loss: 0.0967 - 429ms/epoch - 3ms/step\n",
            "Epoch 124/200\n",
            "125/125 - 0s - loss: 0.0938 - 447ms/epoch - 4ms/step\n",
            "Epoch 125/200\n",
            "125/125 - 0s - loss: 0.0916 - 433ms/epoch - 3ms/step\n",
            "Epoch 126/200\n",
            "125/125 - 0s - loss: 0.0911 - 416ms/epoch - 3ms/step\n",
            "Epoch 127/200\n",
            "125/125 - 0s - loss: 0.0885 - 419ms/epoch - 3ms/step\n",
            "Epoch 128/200\n",
            "125/125 - 0s - loss: 0.0902 - 409ms/epoch - 3ms/step\n",
            "Epoch 129/200\n",
            "125/125 - 0s - loss: 0.0864 - 440ms/epoch - 4ms/step\n",
            "Epoch 130/200\n",
            "125/125 - 0s - loss: 0.0846 - 438ms/epoch - 4ms/step\n",
            "Epoch 131/200\n",
            "125/125 - 0s - loss: 0.0829 - 418ms/epoch - 3ms/step\n",
            "Epoch 132/200\n",
            "125/125 - 0s - loss: 0.0828 - 457ms/epoch - 4ms/step\n",
            "Epoch 133/200\n",
            "125/125 - 0s - loss: 0.0799 - 447ms/epoch - 4ms/step\n",
            "Epoch 134/200\n",
            "125/125 - 0s - loss: 0.0812 - 453ms/epoch - 4ms/step\n",
            "Epoch 135/200\n",
            "125/125 - 0s - loss: 0.0790 - 465ms/epoch - 4ms/step\n",
            "Epoch 136/200\n",
            "125/125 - 0s - loss: 0.0788 - 470ms/epoch - 4ms/step\n",
            "Epoch 137/200\n",
            "125/125 - 0s - loss: 0.0765 - 442ms/epoch - 4ms/step\n",
            "Epoch 138/200\n",
            "125/125 - 0s - loss: 0.0747 - 442ms/epoch - 4ms/step\n",
            "Epoch 139/200\n",
            "125/125 - 1s - loss: 0.0724 - 555ms/epoch - 4ms/step\n",
            "Epoch 140/200\n",
            "125/125 - 1s - loss: 0.0721 - 662ms/epoch - 5ms/step\n",
            "Epoch 141/200\n",
            "125/125 - 1s - loss: 0.0682 - 646ms/epoch - 5ms/step\n",
            "Epoch 142/200\n",
            "125/125 - 1s - loss: 0.0706 - 665ms/epoch - 5ms/step\n",
            "Epoch 143/200\n",
            "125/125 - 1s - loss: 0.0713 - 545ms/epoch - 4ms/step\n",
            "Epoch 144/200\n",
            "125/125 - 0s - loss: 0.0687 - 450ms/epoch - 4ms/step\n",
            "Epoch 145/200\n",
            "125/125 - 0s - loss: 0.0681 - 435ms/epoch - 3ms/step\n",
            "Epoch 146/200\n",
            "125/125 - 0s - loss: 0.0655 - 435ms/epoch - 3ms/step\n",
            "Epoch 147/200\n",
            "125/125 - 0s - loss: 0.0664 - 412ms/epoch - 3ms/step\n",
            "Epoch 148/200\n",
            "125/125 - 0s - loss: 0.0648 - 441ms/epoch - 4ms/step\n",
            "Epoch 149/200\n",
            "125/125 - 0s - loss: 0.0627 - 427ms/epoch - 3ms/step\n",
            "Epoch 150/200\n",
            "125/125 - 0s - loss: 0.0628 - 438ms/epoch - 4ms/step\n",
            "Epoch 151/200\n",
            "125/125 - 0s - loss: 0.0626 - 438ms/epoch - 4ms/step\n",
            "Epoch 152/200\n",
            "125/125 - 0s - loss: 0.0595 - 418ms/epoch - 3ms/step\n",
            "Epoch 153/200\n",
            "125/125 - 0s - loss: 0.0595 - 462ms/epoch - 4ms/step\n",
            "Epoch 154/200\n",
            "125/125 - 0s - loss: 0.0576 - 422ms/epoch - 3ms/step\n",
            "Epoch 155/200\n",
            "125/125 - 0s - loss: 0.0577 - 436ms/epoch - 3ms/step\n",
            "Epoch 156/200\n",
            "125/125 - 0s - loss: 0.0573 - 407ms/epoch - 3ms/step\n",
            "Epoch 157/200\n",
            "125/125 - 0s - loss: 0.0558 - 430ms/epoch - 3ms/step\n",
            "Epoch 158/200\n",
            "125/125 - 0s - loss: 0.0556 - 426ms/epoch - 3ms/step\n",
            "Epoch 159/200\n",
            "125/125 - 0s - loss: 0.0541 - 420ms/epoch - 3ms/step\n",
            "Epoch 160/200\n",
            "125/125 - 0s - loss: 0.0529 - 428ms/epoch - 3ms/step\n",
            "Epoch 161/200\n",
            "125/125 - 0s - loss: 0.0518 - 418ms/epoch - 3ms/step\n",
            "Epoch 162/200\n",
            "125/125 - 0s - loss: 0.0526 - 427ms/epoch - 3ms/step\n",
            "Epoch 163/200\n",
            "125/125 - 0s - loss: 0.0513 - 410ms/epoch - 3ms/step\n",
            "Epoch 164/200\n",
            "125/125 - 0s - loss: 0.0511 - 391ms/epoch - 3ms/step\n",
            "Epoch 165/200\n",
            "125/125 - 0s - loss: 0.0513 - 393ms/epoch - 3ms/step\n",
            "Epoch 166/200\n",
            "125/125 - 0s - loss: 0.0479 - 406ms/epoch - 3ms/step\n",
            "Epoch 167/200\n",
            "125/125 - 1s - loss: 0.0489 - 633ms/epoch - 5ms/step\n",
            "Epoch 168/200\n",
            "125/125 - 1s - loss: 0.0507 - 654ms/epoch - 5ms/step\n",
            "Epoch 169/200\n",
            "125/125 - 1s - loss: 0.0484 - 593ms/epoch - 5ms/step\n",
            "Epoch 170/200\n",
            "125/125 - 1s - loss: 0.0469 - 629ms/epoch - 5ms/step\n",
            "Epoch 171/200\n",
            "125/125 - 0s - loss: 0.0464 - 456ms/epoch - 4ms/step\n",
            "Epoch 172/200\n",
            "125/125 - 0s - loss: 0.0455 - 415ms/epoch - 3ms/step\n",
            "Epoch 173/200\n",
            "125/125 - 0s - loss: 0.0460 - 396ms/epoch - 3ms/step\n",
            "Epoch 174/200\n",
            "125/125 - 0s - loss: 0.0450 - 406ms/epoch - 3ms/step\n",
            "Epoch 175/200\n",
            "125/125 - 0s - loss: 0.0446 - 368ms/epoch - 3ms/step\n",
            "Epoch 176/200\n",
            "125/125 - 0s - loss: 0.0451 - 390ms/epoch - 3ms/step\n",
            "Epoch 177/200\n",
            "125/125 - 0s - loss: 0.0440 - 398ms/epoch - 3ms/step\n",
            "Epoch 178/200\n",
            "125/125 - 0s - loss: 0.0435 - 382ms/epoch - 3ms/step\n",
            "Epoch 179/200\n",
            "125/125 - 0s - loss: 0.0433 - 399ms/epoch - 3ms/step\n",
            "Epoch 180/200\n",
            "125/125 - 0s - loss: 0.0422 - 398ms/epoch - 3ms/step\n",
            "Epoch 181/200\n",
            "125/125 - 0s - loss: 0.0405 - 425ms/epoch - 3ms/step\n",
            "Epoch 182/200\n",
            "125/125 - 0s - loss: 0.0420 - 404ms/epoch - 3ms/step\n",
            "Epoch 183/200\n",
            "125/125 - 0s - loss: 0.0418 - 410ms/epoch - 3ms/step\n",
            "Epoch 184/200\n",
            "125/125 - 0s - loss: 0.0405 - 406ms/epoch - 3ms/step\n",
            "Epoch 185/200\n",
            "125/125 - 0s - loss: 0.0406 - 387ms/epoch - 3ms/step\n",
            "Epoch 186/200\n",
            "125/125 - 0s - loss: 0.0395 - 400ms/epoch - 3ms/step\n",
            "Epoch 187/200\n",
            "125/125 - 0s - loss: 0.0388 - 399ms/epoch - 3ms/step\n",
            "Epoch 188/200\n",
            "125/125 - 0s - loss: 0.0386 - 428ms/epoch - 3ms/step\n",
            "Epoch 189/200\n",
            "125/125 - 0s - loss: 0.0378 - 420ms/epoch - 3ms/step\n",
            "Epoch 190/200\n",
            "125/125 - 0s - loss: 0.0398 - 417ms/epoch - 3ms/step\n",
            "Epoch 191/200\n",
            "125/125 - 0s - loss: 0.0376 - 432ms/epoch - 3ms/step\n",
            "Epoch 192/200\n",
            "125/125 - 0s - loss: 0.0378 - 417ms/epoch - 3ms/step\n",
            "Epoch 193/200\n",
            "125/125 - 0s - loss: 0.0368 - 429ms/epoch - 3ms/step\n",
            "Epoch 194/200\n",
            "125/125 - 0s - loss: 0.0375 - 427ms/epoch - 3ms/step\n",
            "Epoch 195/200\n",
            "125/125 - 1s - loss: 0.0367 - 525ms/epoch - 4ms/step\n",
            "Epoch 196/200\n",
            "125/125 - 1s - loss: 0.0374 - 650ms/epoch - 5ms/step\n",
            "Epoch 197/200\n",
            "125/125 - 1s - loss: 0.0363 - 650ms/epoch - 5ms/step\n",
            "Epoch 198/200\n",
            "125/125 - 1s - loss: 0.0357 - 644ms/epoch - 5ms/step\n",
            "Epoch 199/200\n",
            "125/125 - 1s - loss: 0.0351 - 588ms/epoch - 5ms/step\n",
            "Epoch 200/200\n",
            "125/125 - 0s - loss: 0.0351 - 391ms/epoch - 3ms/step\n"
          ]
        }
      ]
    },
    {
      "cell_type": "code",
      "source": [
        "train_score = model.evaluate(x_train, y_train, verbose = 0)"
      ],
      "metadata": {
        "id": "XokQVX0v_n2Q"
      },
      "execution_count": 13,
      "outputs": []
    },
    {
      "cell_type": "code",
      "source": [
        "train_predict = model.predict(x_train)\n",
        "test_predict = model.predict(x_test)\n",
        "Predict = np.concatenate((train_predict, test_predict), axis=0)"
      ],
      "metadata": {
        "colab": {
          "base_uri": "https://localhost:8080/"
        },
        "id": "UB41KnKW_2K9",
        "outputId": "43089c08-eb7e-480f-add8-3059971aed83"
      },
      "execution_count": 14,
      "outputs": [
        {
          "output_type": "stream",
          "name": "stdout",
          "text": [
            "63/63 [==============================] - 0s 2ms/step\n",
            "15/15 [==============================] - 0s 3ms/step\n"
          ]
        }
      ]
    },
    {
      "cell_type": "code",
      "source": [
        "plt.plot(x)\n",
        "plt.plot(Predict)\n",
        "plt.axvline(len(x_train), c=\"r\")\n",
        "plt.show()"
      ],
      "metadata": {
        "colab": {
          "base_uri": "https://localhost:8080/",
          "height": 430
        },
        "id": "AKCDna_8AVSR",
        "outputId": "2917169c-b2af-477a-bae6-20db16a2bf28"
      },
      "execution_count": 15,
      "outputs": [
        {
          "output_type": "display_data",
          "data": {
            "text/plain": [
              "<Figure size 640x480 with 1 Axes>"
            ],
            "image/png": "[encoded data removed]"
          },
          "metadata": {}
        }
      ]
    }
  ]
}