{
 "cells": [
  {
   "cell_type": "code",
   "execution_count": 1,
   "id": "3ab47a9c-256e-471f-97bb-c713dad95fb0",
   "metadata": {},
   "outputs": [],
   "source": [
    "import numpy as np\n",
    "import os"
   ]
  },
  {
   "cell_type": "code",
   "execution_count": 2,
   "id": "7f9e78e0-31ed-4a69-8ee9-271b16161eb1",
   "metadata": {},
   "outputs": [],
   "source": [
    "glove_dir = \"glove.6B\"\n",
    "\n",
    "embeddings_index = {}\n",
    "f = open(os.path.join(glove_dir, \"glove.6B.100d.txt\"), encoding= \"utf8\")\n",
    "for line in f:\n",
    "    values = line.split()\n",
    "    word = values[0]\n",
    "    coefs = np.asarray(values[1:], dtype= \"float32\")\n",
    "    embeddings_index[word] = coefs\n",
    "f.close()"
   ]
  },
  {
   "cell_type": "code",
   "execution_count": 3,
   "id": "93df096d-15f2-4861-984b-2f53ba9a4666",
   "metadata": {},
   "outputs": [],
   "source": [
    "from sklearn.metrics.pairwise import cosine_similarity\n",
    "\n",
    "def similarity(u, v):\n",
    "    return np.squeeze(cosine_similarity(u.reshape(1, -1), v.reshape(1, -1)))"
   ]
  },
  {
   "cell_type": "code",
   "execution_count": 4,
   "id": "c9ddd310-829c-4b5a-b8fa-f5e246514281",
   "metadata": {},
   "outputs": [
    {
     "name": "stdout",
     "output_type": "stream",
     "text": [
      "cosine_similarity(father, mother) =  0.86566615\n",
      "cosine_similarity(ball, crocodile) =  0.15206575\n",
      "cosine_similarity(france - paris, tehran - iran) =  -0.6854124\n"
     ]
    }
   ],
   "source": [
    "father = embeddings_index[\"father\"]\n",
    "mother = embeddings_index[\"mother\"]\n",
    "ball = embeddings_index[\"ball\"]\n",
    "crocodile = embeddings_index[\"crocodile\"]\n",
    "france = embeddings_index[\"france\"]\n",
    "tehran = embeddings_index[\"tehran\"]\n",
    "paris = embeddings_index[\"paris\"]\n",
    "iran = embeddings_index[\"iran\"]\n",
    "print(\"cosine_similarity(father, mother) = \", similarity(father, mother))\n",
    "print(\"cosine_similarity(ball, crocodile) = \", similarity(ball, crocodile))\n",
    "print(\"cosine_similarity(france - paris, tehran - iran) = \", similarity(france - paris, tehran - iran))"
   ]
  },
  {
   "cell_type": "code",
   "execution_count": 5,
   "id": "2b4e769e-d092-4f80-980d-1406518d78e0",
   "metadata": {},
   "outputs": [
    {
     "data": {
      "text/plain": [
       "array([ 0.64706 , -0.068067,  0.15468 , -0.17408 , -0.29134 ,  0.76999 ,\n",
       "       -0.3192  , -0.25663 , -0.25082 , -0.036737, -0.25509 ,  0.29636 ,\n",
       "        0.5776  ,  0.49641 ,  0.19167 , -0.83888 ,  0.58482 , -0.38717 ,\n",
       "       -0.71591 ,  0.9519  , -0.37966 , -0.1131  ,  0.47154 ,  0.20921 ,\n",
       "        0.38197 ,  0.067582, -0.92879 , -1.1237  ,  0.84831 ,  0.68744 ,\n",
       "       -0.15472 ,  0.92714 ,  0.53371 , -0.037392, -0.856   ,  0.19056 ,\n",
       "       -0.014594,  0.15186 ,  0.53514 , -0.20306 , -0.35164 ,  0.33152 ,\n",
       "        1.1306  , -0.72787 , -0.19724 ,  0.031659, -0.24041 , -0.057617,\n",
       "        0.60473 , -0.49233 , -0.24405 , -0.3184  ,  0.96156 ,  1.0895  ,\n",
       "        0.21534 , -2.0542  , -1.0615  ,  0.052439,  0.57958 ,  0.2748  ,\n",
       "        0.91587 ,  0.85195 ,  0.36113 , -0.31901 ,  0.7784  , -0.36865 ,\n",
       "        0.64387 ,  0.33104 , -0.27181 ,  0.58524 , -0.15143 ,  0.11121 ,\n",
       "        0.2126  , -0.60345 ,  0.16148 ,  0.32952 , -0.1354  , -0.30629 ,\n",
       "       -0.89143 ,  0.091912,  0.49753 ,  0.55932 ,  0.19329 ,  0.044859,\n",
       "       -1.0416  , -0.41566 , -0.54174 , -0.7244  , -0.57492 , -1.1188  ,\n",
       "        0.087097, -0.2992  ,  0.87227 ,  0.86996 , -0.89641 , -0.28259 ,\n",
       "       -0.47295 , -0.74062 , -0.39    , -0.78099 ], dtype=float32)"
      ]
     },
     "execution_count": 5,
     "metadata": {},
     "output_type": "execute_result"
    }
   ],
   "source": [
    "embeddings_index[\"father\"]"
   ]
  },
  {
   "cell_type": "code",
   "execution_count": 6,
   "id": "6a71581b-342d-4306-b4c1-68345f0dcce9",
   "metadata": {},
   "outputs": [],
   "source": [
    "def complete_analogy(word_a, word_b, word_c, embeddings_index):\n",
    "    \n",
    "    word_a, word_b, word_c = word_a.lower(), word_b.lower(), word_c.lower()\n",
    "    \n",
    "    e_a, e_b, e_c = embeddings_index[word_a], embeddings_index[word_b], embeddings_index[word_c]\n",
    "    \n",
    "    words = embeddings_index.keys()\n",
    "    max_cosine_sim = -100              \n",
    "    best_word = None                   \n",
    "\n",
    "    for w in words:        \n",
    "        if w in [word_a, word_b, word_c] :\n",
    "            continue\n",
    "        \n",
    "        cosine_sim = similarity(e_b - e_a, embeddings_index[w] - e_c)\n",
    "        \n",
    "        if cosine_sim > max_cosine_sim:\n",
    "            max_cosine_sim = cosine_sim\n",
    "            best_word = w\n",
    "        \n",
    "    return best_word"
   ]
  },
  {
   "cell_type": "code",
   "execution_count": 7,
   "id": "318349fb-a8df-48fb-bcfe-e0907af9408f",
   "metadata": {},
   "outputs": [
    {
     "data": {
      "text/plain": [
       "'iranian'"
      ]
     },
     "execution_count": 7,
     "metadata": {},
     "output_type": "execute_result"
    }
   ],
   "source": [
    "complete_analogy(\"china\", \"chinese\", \"iran\", embeddings_index)"
   ]
  },
  {
   "cell_type": "code",
   "execution_count": 8,
   "id": "3f3d579a-a6fe-4a04-a4ce-3e714ee4ec95",
   "metadata": {},
   "outputs": [
    {
     "data": {
      "text/plain": [
       "'tehran'"
      ]
     },
     "execution_count": 8,
     "metadata": {},
     "output_type": "execute_result"
    }
   ],
   "source": [
    "complete_analogy(\"india\", \"delhi\", \"iran\", embeddings_index)"
   ]
  },
  {
   "cell_type": "code",
   "execution_count": 9,
   "id": "d7d5a827-e466-4015-ae73-ff46e838ffcb",
   "metadata": {},
   "outputs": [
    {
     "data": {
      "text/plain": [
       "'girl'"
      ]
     },
     "execution_count": 9,
     "metadata": {},
     "output_type": "execute_result"
    }
   ],
   "source": [
    "complete_analogy(\"man\", \"woman\", \"boy\", embeddings_index)"
   ]
  },
  {
   "cell_type": "code",
   "execution_count": 10,
   "id": "2b082873-ace9-4c64-b0ca-7a54980b538e",
   "metadata": {},
   "outputs": [
    {
     "data": {
      "text/plain": [
       "'bigger'"
      ]
     },
     "execution_count": 10,
     "metadata": {},
     "output_type": "execute_result"
    }
   ],
   "source": [
    "complete_analogy(\"small\", \"smaller\", \"big\", embeddings_index)"
   ]
  },
  {
   "cell_type": "code",
   "execution_count": 11,
   "id": "e7b7a1be-2c99-444a-b62d-92e6c732484b",
   "metadata": {},
   "outputs": [
    {
     "data": {
      "text/plain": [
       "'inuktitut'"
      ]
     },
     "execution_count": 11,
     "metadata": {},
     "output_type": "execute_result"
    }
   ],
   "source": [
    "complete_analogy(\"iran\", \"farsi\", \"canada\", embeddings_index)"
   ]
  },
  {
   "cell_type": "code",
   "execution_count": 12,
   "id": "d1e95de7-784e-4528-ad9b-74125d0f3cce",
   "metadata": {},
   "outputs": [
    {
     "data": {
      "text/plain": [
       "'princess'"
      ]
     },
     "execution_count": 12,
     "metadata": {},
     "output_type": "execute_result"
    }
   ],
   "source": [
    "complete_analogy(\"king\", \"Queen\", \"Prince\", embeddings_index)"
   ]
  }
 ],
 "metadata": {
  "kernelspec": {
   "display_name": "Python 3 (ipykernel)",
   "language": "python",
   "name": "python3"
  },
  "language_info": {
   "codemirror_mode": {
    "name": "ipython",
    "version": 3
   },
   "file_extension": ".py",
   "mimetype": "text/x-python",
   "name": "python",
   "nbconvert_exporter": "python",
   "pygments_lexer": "ipython3",
   "version": "3.10.7"
  }
 },
 "nbformat": 4,
 "nbformat_minor": 5
}
