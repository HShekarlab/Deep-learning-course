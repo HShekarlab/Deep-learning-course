{
  "nbformat": 4,
  "nbformat_minor": 0,
  "metadata": {
    "colab": {
      "provenance": []
    },
    "kernelspec": {
      "name": "python3",
      "display_name": "Python 3"
    },
    "language_info": {
      "name": "python"
    }
  },
  "cells": [
    {
      "cell_type": "code",
      "execution_count": null,
      "metadata": {
        "id": "7O4C43_nAoff"
      },
      "outputs": [],
      "source": [
        "import numpy as np\n",
        "import matplotlib.pyplot as plt\n",
        "from keras.datasets import mnist\n",
        "from keras.utils import np_utils\n",
        "from keras.models import Sequential\n",
        "from keras.layers import Dense, Dropout\n",
        "from keras.optimizers import SGD\n",
        "from keras.losses import categorical_crossentropy"
      ]
    },
    {
      "cell_type": "markdown",
      "source": [
        "**Load Data**"
      ],
      "metadata": {
        "id": "JCBdItZkBQqP"
      }
    },
    {
      "cell_type": "code",
      "source": [
        "(train_images, train_labels), (test_images, test_labels) = mnist.load_data()"
      ],
      "metadata": {
        "colab": {
          "base_uri": "https://localhost:8080/"
        },
        "id": "GLUZBH2nBLlq",
        "outputId": "906c5c29-eb18-4dd9-de05-9193ffe92cc8"
      },
      "execution_count": null,
      "outputs": [
        {
          "output_type": "stream",
          "name": "stdout",
          "text": [
            "Downloading data from https://storage.googleapis.com/tensorflow/tf-keras-datasets/mnist.npz\n",
            "11490434/11490434 [==============================] - 1s 0us/step\n"
          ]
        }
      ]
    },
    {
      "cell_type": "markdown",
      "source": [
        "**Data Attribute**"
      ],
      "metadata": {
        "id": "9Yy-MRBCBVFv"
      }
    },
    {
      "cell_type": "code",
      "source": [
        "train_images.shape"
      ],
      "metadata": {
        "colab": {
          "base_uri": "https://localhost:8080/"
        },
        "id": "hh_L6dilBYH9",
        "outputId": "15866cc0-7d3a-49f7-9cfc-e29532aec5ab"
      },
      "execution_count": null,
      "outputs": [
        {
          "output_type": "execute_result",
          "data": {
            "text/plain": [
              "(60000, 28, 28)"
            ]
          },
          "metadata": {},
          "execution_count": 3
        }
      ]
    },
    {
      "cell_type": "code",
      "source": [
        "train_labels.shape"
      ],
      "metadata": {
        "colab": {
          "base_uri": "https://localhost:8080/"
        },
        "id": "X5RVSbT1Bah9",
        "outputId": "ab95e05a-3a97-4341-9140-d527705fbc62"
      },
      "execution_count": null,
      "outputs": [
        {
          "output_type": "execute_result",
          "data": {
            "text/plain": [
              "(60000,)"
            ]
          },
          "metadata": {},
          "execution_count": 4
        }
      ]
    },
    {
      "cell_type": "code",
      "source": [
        "test_images.shape"
      ],
      "metadata": {
        "colab": {
          "base_uri": "https://localhost:8080/"
        },
        "id": "bUSk6PcDBgi8",
        "outputId": "9ab711bc-b6c9-4df0-d5cd-b2e1151faef7"
      },
      "execution_count": null,
      "outputs": [
        {
          "output_type": "execute_result",
          "data": {
            "text/plain": [
              "(10000, 28, 28)"
            ]
          },
          "metadata": {},
          "execution_count": 5
        }
      ]
    },
    {
      "cell_type": "code",
      "source": [
        "test_labels.shape"
      ],
      "metadata": {
        "colab": {
          "base_uri": "https://localhost:8080/"
        },
        "id": "ixu7jDQqBjbJ",
        "outputId": "2d4289bb-66ba-4a99-fbed-23831c347c1e"
      },
      "execution_count": null,
      "outputs": [
        {
          "output_type": "execute_result",
          "data": {
            "text/plain": [
              "(10000,)"
            ]
          },
          "metadata": {},
          "execution_count": 6
        }
      ]
    },
    {
      "cell_type": "code",
      "source": [
        "train_images.ndim"
      ],
      "metadata": {
        "colab": {
          "base_uri": "https://localhost:8080/"
        },
        "id": "XNKa-c9ABl7b",
        "outputId": "003ab1f6-8017-41b1-bee9-541025871f3c"
      },
      "execution_count": null,
      "outputs": [
        {
          "output_type": "execute_result",
          "data": {
            "text/plain": [
              "3"
            ]
          },
          "metadata": {},
          "execution_count": 7
        }
      ]
    },
    {
      "cell_type": "code",
      "source": [
        "train_images.dtype"
      ],
      "metadata": {
        "colab": {
          "base_uri": "https://localhost:8080/"
        },
        "id": "evAA7gkRBp6_",
        "outputId": "d1ebd68e-9afa-4d4e-a9d2-bd54d2fa94bb"
      },
      "execution_count": null,
      "outputs": [
        {
          "output_type": "execute_result",
          "data": {
            "text/plain": [
              "dtype('uint8')"
            ]
          },
          "metadata": {},
          "execution_count": 8
        }
      ]
    },
    {
      "cell_type": "markdown",
      "source": [
        "**Data Visualization**"
      ],
      "metadata": {
        "id": "dlTvV03uBrr3"
      }
    },
    {
      "cell_type": "code",
      "source": [
        "digit = train_images[567]\n",
        "plt.imshow(digit, cmap=\"gray\")"
      ],
      "metadata": {
        "colab": {
          "base_uri": "https://localhost:8080/",
          "height": 448
        },
        "id": "WFKSCSRXBvfL",
        "outputId": "b23729ac-421e-49d3-f5b4-a3ac004e6734"
      },
      "execution_count": null,
      "outputs": [
        {
          "output_type": "execute_result",
          "data": {
            "text/plain": [
              "<matplotlib.image.AxesImage at 0x7fc262bce650>"
            ]
          },
          "metadata": {},
          "execution_count": 9
        },
        {
          "output_type": "display_data",
          "data": {
            "text/plain": [
              "<Figure size 640x480 with 1 Axes>"
            ],
            "image/png": "[encoded data removed]"
          },
          "metadata": {}
        }
      ]
    },
    {
      "cell_type": "code",
      "source": [
        "X_train = train_images.reshape(60000, 784)\n",
        "X_test = test_images.reshape(10000, 784)"
      ],
      "metadata": {
        "id": "wFL0L5sqB8K7"
      },
      "execution_count": null,
      "outputs": []
    },
    {
      "cell_type": "code",
      "source": [
        "X_train = X_train.astype(\"float32\")\n",
        "X_test = X_test.astype(\"float32\")"
      ],
      "metadata": {
        "id": "z0yeN15yCBGh"
      },
      "execution_count": null,
      "outputs": []
    },
    {
      "cell_type": "markdown",
      "source": [
        "**Data Normalization**"
      ],
      "metadata": {
        "id": "O5ettd_qCDgJ"
      }
    },
    {
      "cell_type": "code",
      "source": [
        "X_train /= 255\n",
        "X_test /= 255"
      ],
      "metadata": {
        "id": "yhBGW3YJCGqN"
      },
      "execution_count": null,
      "outputs": []
    },
    {
      "cell_type": "code",
      "source": [
        "Y_train = np_utils.to_categorical(train_labels)\n",
        "Y_test = np_utils.to_categorical(test_labels)"
      ],
      "metadata": {
        "id": "FvVXtotxCLRz"
      },
      "execution_count": null,
      "outputs": []
    },
    {
      "cell_type": "markdown",
      "source": [
        "**Creating Model**"
      ],
      "metadata": {
        "id": "Szx1KaX_CORD"
      }
    },
    {
      "cell_type": "code",
      "source": [
        "My_Model = Sequential()\n",
        "My_Model.add(Dense(500, activation=\"relu\", input_shape=(784,)))\n",
        "My_Model.add(Dropout(0.2))\n",
        "My_Model.add(Dense(100, activation=\"relu\"))\n",
        "My_Model.add(Dropout(0.2))\n",
        "My_Model.add(Dense(10, activation=\"softmax\"))"
      ],
      "metadata": {
        "id": "EJ7oDNtYCRP1"
      },
      "execution_count": null,
      "outputs": []
    },
    {
      "cell_type": "code",
      "source": [
        "My_Model.summary()"
      ],
      "metadata": {
        "colab": {
          "base_uri": "https://localhost:8080/"
        },
        "id": "PbzjqotVCXoG",
        "outputId": "4ea4c3cf-1537-4dc5-8f32-2ab2317f93ec"
      },
      "execution_count": null,
      "outputs": [
        {
          "output_type": "stream",
          "name": "stdout",
          "text": [
            "Model: \"sequential\"\n",
            "_________________________________________________________________\n",
            " Layer (type)                Output Shape              Param #   \n",
            "=================================================================\n",
            " dense (Dense)               (None, 500)               392500    \n",
            "                                                                 \n",
            " dropout (Dropout)           (None, 500)               0         \n",
            "                                                                 \n",
            " dense_1 (Dense)             (None, 100)               50100     \n",
            "                                                                 \n",
            " dropout_1 (Dropout)         (None, 100)               0         \n",
            "                                                                 \n",
            " dense_2 (Dense)             (None, 10)                1010      \n",
            "                                                                 \n",
            "=================================================================\n",
            "Total params: 443,610\n",
            "Trainable params: 443,610\n",
            "Non-trainable params: 0\n",
            "_________________________________________________________________\n"
          ]
        }
      ]
    },
    {
      "cell_type": "code",
      "source": [
        "My_Model.compile(optimizer=SGD(learning_rate=0.001), loss=categorical_crossentropy, metrics=[\"accuracy\"])"
      ],
      "metadata": {
        "id": "aWAbUJ9SCaKm"
      },
      "execution_count": null,
      "outputs": []
    },
    {
      "cell_type": "markdown",
      "source": [
        "**Model Training**"
      ],
      "metadata": {
        "id": "0fDISX1NCeF0"
      }
    },
    {
      "cell_type": "code",
      "source": [
        "Network_history = My_Model.fit(X_train, Y_train, batch_size=128, epochs=60, validation_split=0.02)"
      ],
      "metadata": {
        "colab": {
          "base_uri": "https://localhost:8080/"
        },
        "id": "zf6Rfa1JChJO",
        "outputId": "d5c3375b-3d77-4bde-c0b4-c2ec49d7725d"
      },
      "execution_count": null,
      "outputs": [
        {
          "output_type": "stream",
          "name": "stdout",
          "text": [
            "Epoch 1/60\n",
            "460/460 [==============================] - 7s 14ms/step - loss: 2.2036 - accuracy: 0.2280 - val_loss: 1.9419 - val_accuracy: 0.5942\n",
            "Epoch 2/60\n",
            "460/460 [==============================] - 5s 11ms/step - loss: 1.8764 - accuracy: 0.4669 - val_loss: 1.5703 - val_accuracy: 0.7717\n",
            "Epoch 3/60\n",
            "460/460 [==============================] - 6s 14ms/step - loss: 1.5801 - accuracy: 0.5926 - val_loss: 1.2446 - val_accuracy: 0.8292\n",
            "Epoch 4/60\n",
            "460/460 [==============================] - 5s 11ms/step - loss: 1.3377 - accuracy: 0.6574 - val_loss: 0.9929 - val_accuracy: 0.8625\n",
            "Epoch 5/60\n",
            "460/460 [==============================] - 6s 14ms/step - loss: 1.1545 - accuracy: 0.6981 - val_loss: 0.8121 - val_accuracy: 0.8817\n",
            "Epoch 6/60\n",
            "460/460 [==============================] - 5s 11ms/step - loss: 1.0178 - accuracy: 0.7275 - val_loss: 0.6847 - val_accuracy: 0.8933\n",
            "Epoch 7/60\n",
            "460/460 [==============================] - 6s 14ms/step - loss: 0.9193 - accuracy: 0.7467 - val_loss: 0.5946 - val_accuracy: 0.9025\n",
            "Epoch 8/60\n",
            "460/460 [==============================] - 5s 11ms/step - loss: 0.8429 - accuracy: 0.7677 - val_loss: 0.5287 - val_accuracy: 0.9100\n",
            "Epoch 9/60\n",
            "460/460 [==============================] - 8s 17ms/step - loss: 0.7821 - accuracy: 0.7815 - val_loss: 0.4799 - val_accuracy: 0.9150\n",
            "Epoch 10/60\n",
            "460/460 [==============================] - 5s 12ms/step - loss: 0.7342 - accuracy: 0.7944 - val_loss: 0.4409 - val_accuracy: 0.9167\n",
            "Epoch 11/60\n",
            "460/460 [==============================] - 5s 12ms/step - loss: 0.6973 - accuracy: 0.8012 - val_loss: 0.4123 - val_accuracy: 0.9183\n",
            "Epoch 12/60\n",
            "460/460 [==============================] - 6s 13ms/step - loss: 0.6641 - accuracy: 0.8121 - val_loss: 0.3865 - val_accuracy: 0.9217\n",
            "Epoch 13/60\n",
            "460/460 [==============================] - 5s 11ms/step - loss: 0.6360 - accuracy: 0.8153 - val_loss: 0.3665 - val_accuracy: 0.9250\n",
            "Epoch 14/60\n",
            "460/460 [==============================] - 6s 14ms/step - loss: 0.6115 - accuracy: 0.8249 - val_loss: 0.3494 - val_accuracy: 0.9275\n",
            "Epoch 15/60\n",
            "460/460 [==============================] - 5s 11ms/step - loss: 0.5908 - accuracy: 0.8294 - val_loss: 0.3354 - val_accuracy: 0.9283\n",
            "Epoch 16/60\n",
            "460/460 [==============================] - 6s 14ms/step - loss: 0.5725 - accuracy: 0.8344 - val_loss: 0.3240 - val_accuracy: 0.9275\n",
            "Epoch 17/60\n",
            "460/460 [==============================] - 5s 11ms/step - loss: 0.5559 - accuracy: 0.8406 - val_loss: 0.3134 - val_accuracy: 0.9308\n",
            "Epoch 18/60\n",
            "460/460 [==============================] - 6s 13ms/step - loss: 0.5420 - accuracy: 0.8428 - val_loss: 0.3040 - val_accuracy: 0.9308\n",
            "Epoch 19/60\n",
            "460/460 [==============================] - 6s 12ms/step - loss: 0.5267 - accuracy: 0.8476 - val_loss: 0.2952 - val_accuracy: 0.9333\n",
            "Epoch 20/60\n",
            "460/460 [==============================] - 5s 11ms/step - loss: 0.5143 - accuracy: 0.8516 - val_loss: 0.2880 - val_accuracy: 0.9367\n",
            "Epoch 21/60\n",
            "460/460 [==============================] - 6s 14ms/step - loss: 0.5011 - accuracy: 0.8533 - val_loss: 0.2816 - val_accuracy: 0.9375\n",
            "Epoch 22/60\n",
            "460/460 [==============================] - 5s 11ms/step - loss: 0.4964 - accuracy: 0.8554 - val_loss: 0.2757 - val_accuracy: 0.9383\n",
            "Epoch 23/60\n",
            "460/460 [==============================] - 6s 14ms/step - loss: 0.4845 - accuracy: 0.8597 - val_loss: 0.2707 - val_accuracy: 0.9400\n",
            "Epoch 24/60\n",
            "460/460 [==============================] - 5s 11ms/step - loss: 0.4750 - accuracy: 0.8628 - val_loss: 0.2651 - val_accuracy: 0.9433\n",
            "Epoch 25/60\n",
            "460/460 [==============================] - 6s 14ms/step - loss: 0.4666 - accuracy: 0.8650 - val_loss: 0.2610 - val_accuracy: 0.9442\n",
            "Epoch 26/60\n",
            "460/460 [==============================] - 5s 11ms/step - loss: 0.4583 - accuracy: 0.8654 - val_loss: 0.2567 - val_accuracy: 0.9442\n",
            "Epoch 27/60\n",
            "460/460 [==============================] - 6s 12ms/step - loss: 0.4526 - accuracy: 0.8687 - val_loss: 0.2530 - val_accuracy: 0.9458\n",
            "Epoch 28/60\n",
            "460/460 [==============================] - 6s 13ms/step - loss: 0.4498 - accuracy: 0.8692 - val_loss: 0.2501 - val_accuracy: 0.9458\n",
            "Epoch 29/60\n",
            "460/460 [==============================] - 5s 11ms/step - loss: 0.4391 - accuracy: 0.8729 - val_loss: 0.2467 - val_accuracy: 0.9458\n",
            "Epoch 30/60\n",
            "460/460 [==============================] - 6s 14ms/step - loss: 0.4353 - accuracy: 0.8734 - val_loss: 0.2440 - val_accuracy: 0.9442\n",
            "Epoch 31/60\n",
            "460/460 [==============================] - 5s 11ms/step - loss: 0.4256 - accuracy: 0.8765 - val_loss: 0.2403 - val_accuracy: 0.9450\n",
            "Epoch 32/60\n",
            "460/460 [==============================] - 6s 14ms/step - loss: 0.4235 - accuracy: 0.8766 - val_loss: 0.2375 - val_accuracy: 0.9467\n",
            "Epoch 33/60\n",
            "460/460 [==============================] - 5s 11ms/step - loss: 0.4185 - accuracy: 0.8776 - val_loss: 0.2353 - val_accuracy: 0.9442\n",
            "Epoch 34/60\n",
            "460/460 [==============================] - 6s 13ms/step - loss: 0.4116 - accuracy: 0.8806 - val_loss: 0.2327 - val_accuracy: 0.9450\n",
            "Epoch 35/60\n",
            "460/460 [==============================] - 6s 12ms/step - loss: 0.4060 - accuracy: 0.8816 - val_loss: 0.2301 - val_accuracy: 0.9467\n",
            "Epoch 36/60\n",
            "460/460 [==============================] - 5s 12ms/step - loss: 0.4039 - accuracy: 0.8828 - val_loss: 0.2280 - val_accuracy: 0.9467\n",
            "Epoch 37/60\n",
            "460/460 [==============================] - 6s 14ms/step - loss: 0.4001 - accuracy: 0.8836 - val_loss: 0.2261 - val_accuracy: 0.9492\n",
            "Epoch 38/60\n",
            "460/460 [==============================] - 5s 11ms/step - loss: 0.3948 - accuracy: 0.8864 - val_loss: 0.2239 - val_accuracy: 0.9492\n",
            "Epoch 39/60\n",
            "460/460 [==============================] - 6s 14ms/step - loss: 0.3906 - accuracy: 0.8874 - val_loss: 0.2219 - val_accuracy: 0.9500\n",
            "Epoch 40/60\n",
            "460/460 [==============================] - 5s 11ms/step - loss: 0.3870 - accuracy: 0.8875 - val_loss: 0.2204 - val_accuracy: 0.9500\n",
            "Epoch 41/60\n",
            "460/460 [==============================] - 6s 14ms/step - loss: 0.3846 - accuracy: 0.8874 - val_loss: 0.2185 - val_accuracy: 0.9500\n",
            "Epoch 42/60\n",
            "460/460 [==============================] - 5s 12ms/step - loss: 0.3789 - accuracy: 0.8902 - val_loss: 0.2170 - val_accuracy: 0.9500\n",
            "Epoch 43/60\n",
            "460/460 [==============================] - 6s 13ms/step - loss: 0.3761 - accuracy: 0.8909 - val_loss: 0.2152 - val_accuracy: 0.9517\n",
            "Epoch 44/60\n",
            "460/460 [==============================] - 6s 12ms/step - loss: 0.3733 - accuracy: 0.8911 - val_loss: 0.2141 - val_accuracy: 0.9517\n",
            "Epoch 45/60\n",
            "460/460 [==============================] - 5s 11ms/step - loss: 0.3690 - accuracy: 0.8924 - val_loss: 0.2121 - val_accuracy: 0.9517\n",
            "Epoch 46/60\n",
            "460/460 [==============================] - 6s 14ms/step - loss: 0.3654 - accuracy: 0.8943 - val_loss: 0.2105 - val_accuracy: 0.9525\n",
            "Epoch 47/60\n",
            "460/460 [==============================] - 5s 11ms/step - loss: 0.3642 - accuracy: 0.8942 - val_loss: 0.2090 - val_accuracy: 0.9533\n",
            "Epoch 48/60\n",
            "460/460 [==============================] - 10s 21ms/step - loss: 0.3604 - accuracy: 0.8954 - val_loss: 0.2078 - val_accuracy: 0.9525\n",
            "Epoch 49/60\n",
            "460/460 [==============================] - 11s 24ms/step - loss: 0.3552 - accuracy: 0.8963 - val_loss: 0.2062 - val_accuracy: 0.9533\n",
            "Epoch 50/60\n",
            "460/460 [==============================] - 8s 18ms/step - loss: 0.3580 - accuracy: 0.8950 - val_loss: 0.2048 - val_accuracy: 0.9542\n",
            "Epoch 51/60\n",
            "460/460 [==============================] - 6s 13ms/step - loss: 0.3531 - accuracy: 0.8969 - val_loss: 0.2035 - val_accuracy: 0.9550\n",
            "Epoch 52/60\n",
            "460/460 [==============================] - 5s 12ms/step - loss: 0.3493 - accuracy: 0.9000 - val_loss: 0.2020 - val_accuracy: 0.9550\n",
            "Epoch 53/60\n",
            "460/460 [==============================] - 6s 14ms/step - loss: 0.3474 - accuracy: 0.8995 - val_loss: 0.2006 - val_accuracy: 0.9558\n",
            "Epoch 54/60\n",
            "460/460 [==============================] - 5s 12ms/step - loss: 0.3443 - accuracy: 0.8998 - val_loss: 0.1996 - val_accuracy: 0.9567\n",
            "Epoch 55/60\n",
            "460/460 [==============================] - 6s 14ms/step - loss: 0.3429 - accuracy: 0.8997 - val_loss: 0.1984 - val_accuracy: 0.9567\n",
            "Epoch 56/60\n",
            "460/460 [==============================] - 5s 12ms/step - loss: 0.3409 - accuracy: 0.8998 - val_loss: 0.1973 - val_accuracy: 0.9567\n",
            "Epoch 57/60\n",
            "460/460 [==============================] - 6s 14ms/step - loss: 0.3366 - accuracy: 0.9026 - val_loss: 0.1962 - val_accuracy: 0.9558\n",
            "Epoch 58/60\n",
            "460/460 [==============================] - 5s 12ms/step - loss: 0.3349 - accuracy: 0.9027 - val_loss: 0.1950 - val_accuracy: 0.9567\n",
            "Epoch 59/60\n",
            "460/460 [==============================] - 6s 12ms/step - loss: 0.3307 - accuracy: 0.9042 - val_loss: 0.1940 - val_accuracy: 0.9567\n",
            "Epoch 60/60\n",
            "460/460 [==============================] - 6s 13ms/step - loss: 0.3296 - accuracy: 0.9041 - val_loss: 0.1933 - val_accuracy: 0.9567\n"
          ]
        }
      ]
    },
    {
      "cell_type": "code",
      "source": [
        "history = Network_history.history"
      ],
      "metadata": {
        "id": "Zz3x7lB-CkoD"
      },
      "execution_count": null,
      "outputs": []
    },
    {
      "cell_type": "code",
      "source": [
        "losses = history[\"loss\"]\n",
        "accuracies = history[\"accuracy\"]\n",
        "val_loss = history[\"val_loss\"]\n",
        "val_accuracy = history[\"val_accuracy\"]"
      ],
      "metadata": {
        "id": "K63p9_13CpQm"
      },
      "execution_count": null,
      "outputs": []
    },
    {
      "cell_type": "code",
      "source": [
        "plt.xlabel(\"Epochs\")\n",
        "plt.ylabel(\"Loss\")\n",
        "plt.plot(losses)\n",
        "plt.plot(val_loss)\n",
        "plt.legend([\"loss\", \"val_loss\"])"
      ],
      "metadata": {
        "colab": {
          "base_uri": "https://localhost:8080/",
          "height": 467
        },
        "id": "Jf3TTLIMCsjm",
        "outputId": "0948d672-da30-4f96-b8f0-ad7704b32e05"
      },
      "execution_count": null,
      "outputs": [
        {
          "output_type": "execute_result",
          "data": {
            "text/plain": [
              "<matplotlib.legend.Legend at 0x7fc24d2dc850>"
            ]
          },
          "metadata": {},
          "execution_count": 20
        },
        {
          "output_type": "display_data",
          "data": {
            "text/plain": [
              "<Figure size 640x480 with 1 Axes>"
            ],
            "image/png": "[encoded data removed]"
          },
          "metadata": {}
        }
      ]
    },
    {
      "cell_type": "code",
      "source": [
        "plt.xlabel(\"Epochs\")\n",
        "plt.ylabel(\"Accuracy\")\n",
        "plt.plot(accuracies)\n",
        "plt.plot(val_accuracy)\n",
        "plt.legend([\"accuracies\", \"val_accuracy\"])"
      ],
      "metadata": {
        "colab": {
          "base_uri": "https://localhost:8080/",
          "height": 467
        },
        "id": "rzoaJJ7vC0CT",
        "outputId": "64adefa9-7212-4781-ccf9-aa0c4ff3cc04"
      },
      "execution_count": null,
      "outputs": [
        {
          "output_type": "execute_result",
          "data": {
            "text/plain": [
              "<matplotlib.legend.Legend at 0x7fc24da961d0>"
            ]
          },
          "metadata": {},
          "execution_count": 21
        },
        {
          "output_type": "display_data",
          "data": {
            "text/plain": [
              "<Figure size 640x480 with 1 Axes>"
            ],
            "image/png": "[encoded data removed]"
          },
          "metadata": {}
        }
      ]
    },
    {
      "cell_type": "markdown",
      "source": [
        "**Evaluate**"
      ],
      "metadata": {
        "id": "YvlW_-GiC5QL"
      }
    },
    {
      "cell_type": "code",
      "source": [
        "test_loss , test_accuracy = My_Model.evaluate(X_test, Y_test)"
      ],
      "metadata": {
        "colab": {
          "base_uri": "https://localhost:8080/"
        },
        "id": "MJFLprwiC7lz",
        "outputId": "fd4c929e-f7e7-4452-feaa-4c6f5e6cdbf8"
      },
      "execution_count": null,
      "outputs": [
        {
          "output_type": "stream",
          "name": "stdout",
          "text": [
            "313/313 [==============================] - 1s 3ms/step - loss: 0.2536 - accuracy: 0.9262\n"
          ]
        }
      ]
    },
    {
      "cell_type": "code",
      "source": [
        "test_label_predict = My_Model.predict(X_test)\n",
        "test_label_predict = np.argmax(test_label_predict, axis=1)"
      ],
      "metadata": {
        "colab": {
          "base_uri": "https://localhost:8080/"
        },
        "id": "p0cjfa5lDA6k",
        "outputId": "466c16f6-d111-493e-b91d-8564ae156136"
      },
      "execution_count": null,
      "outputs": [
        {
          "output_type": "stream",
          "name": "stdout",
          "text": [
            "313/313 [==============================] - 1s 3ms/step\n"
          ]
        }
      ]
    }
  ]
}